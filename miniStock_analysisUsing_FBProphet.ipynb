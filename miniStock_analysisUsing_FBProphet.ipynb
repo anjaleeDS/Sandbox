{
  "nbformat": 4,
  "nbformat_minor": 0,
  "metadata": {
    "colab": {
      "name": "miniStock_analysisUsing_FBProphet.ipynb",
      "provenance": [],
      "collapsed_sections": [],
      "include_colab_link": true
    },
    "kernelspec": {
      "name": "python3",
      "display_name": "Python 3"
    }
  },
  "cells": [
    {
      "cell_type": "markdown",
      "metadata": {
        "id": "view-in-github",
        "colab_type": "text"
      },
      "source": [
        "<a href=\"https://colab.research.google.com/github/anjaleeDS/Sandbox/blob/master/miniStock_analysisUsing_FBProphet.ipynb\" target=\"_parent\"><img src=\"https://colab.research.google.com/assets/colab-badge.svg\" alt=\"Open In Colab\"/></a>"
      ]
    },
    {
      "cell_type": "markdown",
      "metadata": {
        "id": "h8TVblAPp44w",
        "colab_type": "text"
      },
      "source": [
        "# Personal tool for finding components from stocks\n",
        "\n"
      ]
    },
    {
      "cell_type": "markdown",
      "metadata": {
        "id": "VukzNjRomNl5",
        "colab_type": "text"
      },
      "source": [
        "##Setup\n",
        "\n",
        "*   Libs\n",
        "*   Mount Drive for Data\n",
        "*   Settings"
      ]
    },
    {
      "cell_type": "code",
      "metadata": {
        "id": "qLdqLsO6jo1K",
        "colab_type": "code",
        "colab": {
          "base_uri": "https://localhost:8080/",
          "height": 165
        },
        "outputId": "4f112c9a-3936-4211-988c-ed1c4868d8b0"
      },
      "source": [
        "import pandas as pd\n",
        "import seaborn as sns\n",
        "import matplotlib.pyplot as plt\n",
        "from fbprophet import Prophet\n",
        "import altair as alt\n",
        "import datetime as dt\n",
        "import numpy as np\n",
        "\n",
        "#### get from gdrive\n",
        "# from google.colab import drive\n",
        "# drive.mount('/gdrive', force_remount=True)\n",
        "# %cd /gdrive/My\\ Drive/\n",
        "# %cd Colab\\ Notebooks\n",
        "# %cd Sandbox\n",
        "\n",
        "#### get from gsheets\n",
        "from google.colab import auth\n",
        "auth.authenticate_user()\n",
        "import gspread\n",
        "from oauth2client.client import GoogleCredentials\n",
        "gc = gspread.authorize(GoogleCredentials.get_application_default())\n",
        "\n",
        "pd.set_option('max_rows', 100)\n",
        "pd.set_option('max_colwidth', 400)\n",
        "pd.describe_option('max_colwidth')\n",
        "\n",
        "plt.style.use('fivethirtyeight')"
      ],
      "execution_count": 1,
      "outputs": [
        {
          "output_type": "stream",
          "text": [
            "/usr/local/lib/python3.6/dist-packages/statsmodels/tools/_testing.py:19: FutureWarning: pandas.util.testing is deprecated. Use the functions in the public API at pandas.testing instead.\n",
            "  import pandas.util.testing as tm\n"
          ],
          "name": "stderr"
        },
        {
          "output_type": "stream",
          "text": [
            "display.max_colwidth : int or None\n",
            "    The maximum width in characters of a column in the repr of\n",
            "    a pandas data structure. When the column overflows, a \"...\"\n",
            "    placeholder is embedded in the output. A 'None' value means unlimited.\n",
            "    [default: 50] [currently: 400]\n"
          ],
          "name": "stdout"
        }
      ]
    },
    {
      "cell_type": "markdown",
      "metadata": {
        "id": "HHjFpVdeFqpN",
        "colab_type": "text"
      },
      "source": [
        "## Get data from gsheets\n",
        "\n"
      ]
    },
    {
      "cell_type": "code",
      "metadata": {
        "id": "Oxwn5svkFqJS",
        "colab_type": "code",
        "colab": {}
      },
      "source": [
        "worksheet = gc.open('wlmt_dump_precovid').sheet1\n",
        "\n",
        "# get_all_values gives a list of rows.\n",
        "rows = worksheet.get_all_values()\n",
        "\n",
        "# Convert to a DataFrame\n",
        "walmart_df = pd.DataFrame.from_records(rows)\n",
        "\n",
        "\n"
      ],
      "execution_count": 13,
      "outputs": []
    },
    {
      "cell_type": "markdown",
      "metadata": {
        "id": "6vj7_DfhZ7fQ",
        "colab_type": "text"
      },
      "source": [
        "## Fix / normalize data \n",
        "\n",
        "- fix the index using first line in gsheet as header\n",
        "- take out erroneous non-chars from column name\n",
        "- remove rows that were not daily reading of stock\n",
        "- strip out commas in Volume column\n",
        "- assign correct types to columns (datetime, float and ints)"
      ]
    },
    {
      "cell_type": "code",
      "metadata": {
        "id": "2b9ZiLxel6jM",
        "colab_type": "code",
        "colab": {}
      },
      "source": [
        "# correct header and index\n",
        "walmart_df = walmart_df.rename(columns=walmart_df.iloc[0])\n",
        "walmart_df = walmart_df.drop(walmart_df.index[0])\n",
        "walmart_df = walmart_df.reset_index(drop=True)\n",
        "walmart_df.columns = [c.replace(' ', '_') for c in walmart_df.columns] # for the columns that are multiple words\n",
        "walmart_df.columns = [c.replace('*', '') for c in walmart_df.columns] # take out the random non letters in the column name\n",
        "\n",
        "walmart_df.Volume = walmart_df.Volume.replace(',','', regex=True)\n",
        "\n",
        "walmart_df.head()"
      ],
      "execution_count": null,
      "outputs": []
    },
    {
      "cell_type": "code",
      "metadata": {
        "id": "MYysvSqlg8to",
        "colab_type": "code",
        "colab": {
          "base_uri": "https://localhost:8080/",
          "height": 344
        },
        "outputId": "01c7af00-8b26-4a86-9ead-65ff5c0e2d0d"
      },
      "source": [
        "\n",
        "# Get rid of the broken rows\n",
        "w_df = walmart_df[walmart_df.High!='']\n",
        "\n",
        "# Make Date column a date type and others floats\n",
        "w_df.Date = pd.to_datetime(w_df.Date, errors='coerce')\n",
        "w_df.Adj_Close = pd.to_numeric(w_df.Adj_Close, errors='coerce')\n",
        "w_df.Close= pd.to_numeric(w_df.Close, errors='coerce')\n",
        "w_df.Low=pd.to_numeric(w_df.Low, errors='coerce')\n",
        "w_df.High=pd.to_numeric(w_df.High, errors='coerce')\n",
        "w_df.Open=pd.to_numeric(w_df.Open, errors='coerce')\n",
        "w_df.Volume = w_df.Volume.astype('int64')\n",
        "\n",
        "w_df.head()\n"
      ],
      "execution_count": 15,
      "outputs": [
        {
          "output_type": "stream",
          "text": [
            "/usr/local/lib/python3.6/dist-packages/pandas/core/generic.py:5303: SettingWithCopyWarning:\n",
            "\n",
            "\n",
            "A value is trying to be set on a copy of a slice from a DataFrame.\n",
            "Try using .loc[row_indexer,col_indexer] = value instead\n",
            "\n",
            "See the caveats in the documentation: https://pandas.pydata.org/pandas-docs/stable/user_guide/indexing.html#returning-a-view-versus-a-copy\n",
            "\n"
          ],
          "name": "stderr"
        },
        {
          "output_type": "execute_result",
          "data": {
            "text/html": [
              "<div>\n",
              "<style scoped>\n",
              "    .dataframe tbody tr th:only-of-type {\n",
              "        vertical-align: middle;\n",
              "    }\n",
              "\n",
              "    .dataframe tbody tr th {\n",
              "        vertical-align: top;\n",
              "    }\n",
              "\n",
              "    .dataframe thead th {\n",
              "        text-align: right;\n",
              "    }\n",
              "</style>\n",
              "<table border=\"1\" class=\"dataframe\">\n",
              "  <thead>\n",
              "    <tr style=\"text-align: right;\">\n",
              "      <th></th>\n",
              "      <th>Date</th>\n",
              "      <th>Open</th>\n",
              "      <th>High</th>\n",
              "      <th>Low</th>\n",
              "      <th>Close</th>\n",
              "      <th>Adj_Close</th>\n",
              "      <th>Volume</th>\n",
              "    </tr>\n",
              "  </thead>\n",
              "  <tbody>\n",
              "    <tr>\n",
              "      <th>0</th>\n",
              "      <td>2020-03-09</td>\n",
              "      <td>113.82</td>\n",
              "      <td>120.63</td>\n",
              "      <td>112.73</td>\n",
              "      <td>117.16</td>\n",
              "      <td>116.13</td>\n",
              "      <td>19747800</td>\n",
              "    </tr>\n",
              "    <tr>\n",
              "      <th>1</th>\n",
              "      <td>2020-03-06</td>\n",
              "      <td>113.87</td>\n",
              "      <td>117.91</td>\n",
              "      <td>113.01</td>\n",
              "      <td>117.23</td>\n",
              "      <td>116.20</td>\n",
              "      <td>9803700</td>\n",
              "    </tr>\n",
              "    <tr>\n",
              "      <th>2</th>\n",
              "      <td>2020-03-05</td>\n",
              "      <td>114.40</td>\n",
              "      <td>117.25</td>\n",
              "      <td>113.91</td>\n",
              "      <td>115.92</td>\n",
              "      <td>114.90</td>\n",
              "      <td>8546100</td>\n",
              "    </tr>\n",
              "    <tr>\n",
              "      <th>3</th>\n",
              "      <td>2020-03-04</td>\n",
              "      <td>114.24</td>\n",
              "      <td>116.84</td>\n",
              "      <td>113.47</td>\n",
              "      <td>116.77</td>\n",
              "      <td>115.75</td>\n",
              "      <td>8208400</td>\n",
              "    </tr>\n",
              "    <tr>\n",
              "      <th>4</th>\n",
              "      <td>2020-03-03</td>\n",
              "      <td>116.08</td>\n",
              "      <td>117.53</td>\n",
              "      <td>112.34</td>\n",
              "      <td>112.91</td>\n",
              "      <td>111.92</td>\n",
              "      <td>11113600</td>\n",
              "    </tr>\n",
              "  </tbody>\n",
              "</table>\n",
              "</div>"
            ],
            "text/plain": [
              "        Date    Open    High     Low   Close  Adj_Close    Volume\n",
              "0 2020-03-09  113.82  120.63  112.73  117.16     116.13  19747800\n",
              "1 2020-03-06  113.87  117.91  113.01  117.23     116.20   9803700\n",
              "2 2020-03-05  114.40  117.25  113.91  115.92     114.90   8546100\n",
              "3 2020-03-04  114.24  116.84  113.47  116.77     115.75   8208400\n",
              "4 2020-03-03  116.08  117.53  112.34  112.91     111.92  11113600"
            ]
          },
          "metadata": {
            "tags": []
          },
          "execution_count": 15
        }
      ]
    },
    {
      "cell_type": "markdown",
      "metadata": {
        "id": "zP8tGLnAZ0G8",
        "colab_type": "text"
      },
      "source": [
        "## Create/format dataframe that FBProphet can work with"
      ]
    },
    {
      "cell_type": "code",
      "metadata": {
        "id": "Wf3VtcvgOT7p",
        "colab_type": "code",
        "colab": {
          "base_uri": "https://localhost:8080/",
          "height": 145
        },
        "outputId": "cda3775a-f9b6-4738-c871-68734e4390a7"
      },
      "source": [
        "# format into FBProphet inputs\n",
        "pdf = w_df[['Date','Low']] \n",
        "pdf.rename(columns={'Date': 'ds', 'Low': 'y'},inplace=True)\n",
        "# pdf"
      ],
      "execution_count": 16,
      "outputs": [
        {
          "output_type": "stream",
          "text": [
            "/usr/local/lib/python3.6/dist-packages/pandas/core/frame.py:4133: SettingWithCopyWarning:\n",
            "\n",
            "\n",
            "A value is trying to be set on a copy of a slice from a DataFrame\n",
            "\n",
            "See the caveats in the documentation: https://pandas.pydata.org/pandas-docs/stable/user_guide/indexing.html#returning-a-view-versus-a-copy\n",
            "\n"
          ],
          "name": "stderr"
        }
      ]
    },
    {
      "cell_type": "markdown",
      "metadata": {
        "id": "1Ya9ta3bax7I",
        "colab_type": "text"
      },
      "source": [
        "## Create model and period for prediction"
      ]
    },
    {
      "cell_type": "code",
      "metadata": {
        "id": "EKNRgU88qfb3",
        "colab_type": "code",
        "colab": {
          "base_uri": "https://localhost:8080/",
          "height": 305
        },
        "outputId": "e6613a28-e466-4a10-cb0a-92a96c509277"
      },
      "source": [
        "my_model = Prophet(interval_width=0.95, yearly_seasonality=True, daily_seasonality=True) #system advises to put yearly and daily \"*_seasonality=True\"\n",
        "my_model.fit(pdf)\n",
        "\n",
        "# tell how long out you want to predict\n",
        "future_dates =  my_model.make_future_dataframe(periods=9, freq='MS')\n",
        "\n",
        "# add the future to your model\n",
        "forecast =  my_model.predict(future_dates)\n",
        "forecast.tail()"
      ],
      "execution_count": 22,
      "outputs": [
        {
          "output_type": "execute_result",
          "data": {
            "text/html": [
              "<div>\n",
              "<style scoped>\n",
              "    .dataframe tbody tr th:only-of-type {\n",
              "        vertical-align: middle;\n",
              "    }\n",
              "\n",
              "    .dataframe tbody tr th {\n",
              "        vertical-align: top;\n",
              "    }\n",
              "\n",
              "    .dataframe thead th {\n",
              "        text-align: right;\n",
              "    }\n",
              "</style>\n",
              "<table border=\"1\" class=\"dataframe\">\n",
              "  <thead>\n",
              "    <tr style=\"text-align: right;\">\n",
              "      <th></th>\n",
              "      <th>ds</th>\n",
              "      <th>trend</th>\n",
              "      <th>yhat_lower</th>\n",
              "      <th>yhat_upper</th>\n",
              "      <th>trend_lower</th>\n",
              "      <th>trend_upper</th>\n",
              "      <th>additive_terms</th>\n",
              "      <th>additive_terms_lower</th>\n",
              "      <th>additive_terms_upper</th>\n",
              "      <th>daily</th>\n",
              "      <th>daily_lower</th>\n",
              "      <th>daily_upper</th>\n",
              "      <th>weekly</th>\n",
              "      <th>weekly_lower</th>\n",
              "      <th>weekly_upper</th>\n",
              "      <th>yearly</th>\n",
              "      <th>yearly_lower</th>\n",
              "      <th>yearly_upper</th>\n",
              "      <th>multiplicative_terms</th>\n",
              "      <th>multiplicative_terms_lower</th>\n",
              "      <th>multiplicative_terms_upper</th>\n",
              "      <th>yhat</th>\n",
              "    </tr>\n",
              "  </thead>\n",
              "  <tbody>\n",
              "    <tr>\n",
              "      <th>166</th>\n",
              "      <td>2020-08-01</td>\n",
              "      <td>124.901657</td>\n",
              "      <td>116.533038</td>\n",
              "      <td>121.585061</td>\n",
              "      <td>124.901472</td>\n",
              "      <td>124.901839</td>\n",
              "      <td>-5.862292</td>\n",
              "      <td>-5.862292</td>\n",
              "      <td>-5.862292</td>\n",
              "      <td>-0.546292</td>\n",
              "      <td>-0.546292</td>\n",
              "      <td>-0.546292</td>\n",
              "      <td>0.068287</td>\n",
              "      <td>0.068287</td>\n",
              "      <td>0.068287</td>\n",
              "      <td>-5.384286</td>\n",
              "      <td>-5.384286</td>\n",
              "      <td>-5.384286</td>\n",
              "      <td>0.0</td>\n",
              "      <td>0.0</td>\n",
              "      <td>0.0</td>\n",
              "      <td>119.039365</td>\n",
              "    </tr>\n",
              "    <tr>\n",
              "      <th>167</th>\n",
              "      <td>2020-09-01</td>\n",
              "      <td>125.836988</td>\n",
              "      <td>122.437776</td>\n",
              "      <td>127.695962</td>\n",
              "      <td>125.836742</td>\n",
              "      <td>125.837228</td>\n",
              "      <td>-0.860597</td>\n",
              "      <td>-0.860597</td>\n",
              "      <td>-0.860597</td>\n",
              "      <td>-0.546292</td>\n",
              "      <td>-0.546292</td>\n",
              "      <td>-0.546292</td>\n",
              "      <td>-0.062209</td>\n",
              "      <td>-0.062209</td>\n",
              "      <td>-0.062209</td>\n",
              "      <td>-0.252096</td>\n",
              "      <td>-0.252096</td>\n",
              "      <td>-0.252096</td>\n",
              "      <td>0.0</td>\n",
              "      <td>0.0</td>\n",
              "      <td>0.0</td>\n",
              "      <td>124.976391</td>\n",
              "    </tr>\n",
              "    <tr>\n",
              "      <th>168</th>\n",
              "      <td>2020-10-01</td>\n",
              "      <td>126.742147</td>\n",
              "      <td>126.158253</td>\n",
              "      <td>131.132630</td>\n",
              "      <td>126.741835</td>\n",
              "      <td>126.742449</td>\n",
              "      <td>1.923367</td>\n",
              "      <td>1.923367</td>\n",
              "      <td>1.923367</td>\n",
              "      <td>-0.546292</td>\n",
              "      <td>-0.546292</td>\n",
              "      <td>-0.546292</td>\n",
              "      <td>0.254770</td>\n",
              "      <td>0.254770</td>\n",
              "      <td>0.254770</td>\n",
              "      <td>2.214889</td>\n",
              "      <td>2.214889</td>\n",
              "      <td>2.214889</td>\n",
              "      <td>0.0</td>\n",
              "      <td>0.0</td>\n",
              "      <td>0.0</td>\n",
              "      <td>128.665514</td>\n",
              "    </tr>\n",
              "    <tr>\n",
              "      <th>169</th>\n",
              "      <td>2020-11-01</td>\n",
              "      <td>127.677478</td>\n",
              "      <td>126.677311</td>\n",
              "      <td>131.675421</td>\n",
              "      <td>127.677091</td>\n",
              "      <td>127.677848</td>\n",
              "      <td>1.496081</td>\n",
              "      <td>1.496081</td>\n",
              "      <td>1.496081</td>\n",
              "      <td>-0.546292</td>\n",
              "      <td>-0.546292</td>\n",
              "      <td>-0.546292</td>\n",
              "      <td>0.068287</td>\n",
              "      <td>0.068287</td>\n",
              "      <td>0.068287</td>\n",
              "      <td>1.974087</td>\n",
              "      <td>1.974087</td>\n",
              "      <td>1.974087</td>\n",
              "      <td>0.0</td>\n",
              "      <td>0.0</td>\n",
              "      <td>0.0</td>\n",
              "      <td>129.173559</td>\n",
              "    </tr>\n",
              "    <tr>\n",
              "      <th>170</th>\n",
              "      <td>2020-12-01</td>\n",
              "      <td>128.582637</td>\n",
              "      <td>127.107471</td>\n",
              "      <td>131.846994</td>\n",
              "      <td>128.582169</td>\n",
              "      <td>128.583082</td>\n",
              "      <td>0.817822</td>\n",
              "      <td>0.817822</td>\n",
              "      <td>0.817822</td>\n",
              "      <td>-0.546292</td>\n",
              "      <td>-0.546292</td>\n",
              "      <td>-0.546292</td>\n",
              "      <td>-0.062209</td>\n",
              "      <td>-0.062209</td>\n",
              "      <td>-0.062209</td>\n",
              "      <td>1.426323</td>\n",
              "      <td>1.426323</td>\n",
              "      <td>1.426323</td>\n",
              "      <td>0.0</td>\n",
              "      <td>0.0</td>\n",
              "      <td>0.0</td>\n",
              "      <td>129.400460</td>\n",
              "    </tr>\n",
              "  </tbody>\n",
              "</table>\n",
              "</div>"
            ],
            "text/plain": [
              "            ds       trend  ...  multiplicative_terms_upper        yhat\n",
              "166 2020-08-01  124.901657  ...                         0.0  119.039365\n",
              "167 2020-09-01  125.836988  ...                         0.0  124.976391\n",
              "168 2020-10-01  126.742147  ...                         0.0  128.665514\n",
              "169 2020-11-01  127.677478  ...                         0.0  129.173559\n",
              "170 2020-12-01  128.582637  ...                         0.0  129.400460\n",
              "\n",
              "[5 rows x 22 columns]"
            ]
          },
          "metadata": {
            "tags": []
          },
          "execution_count": 22
        }
      ]
    },
    {
      "cell_type": "code",
      "metadata": {
        "id": "0_71a_SLXTZG",
        "colab_type": "code",
        "colab": {
          "base_uri": "https://localhost:8080/",
          "height": 865
        },
        "outputId": "a794f53e-cfeb-432b-be2d-730face93bd2"
      },
      "source": [
        "# Look at the model and prediction\n",
        "my_model.plot(forecast, uncertainty=True)\n",
        "from fbprophet.plot import add_changepoints_to_plot\n",
        "fig = my_model.plot(forecast)\n",
        "a = add_changepoints_to_plot(fig.gca(), my_model, forecast)"
      ],
      "execution_count": 25,
      "outputs": [
        {
          "output_type": "display_data",
          "data": {
            "image/png": "[encoded data removed]",
            "text/plain": [
              "<Figure size 720x432 with 1 Axes>"
            ]
          },
          "metadata": {
            "tags": []
          }
        },
        {
          "output_type": "display_data",
          "data": {
            "image/png": "[encoded data removed]",
            "text/plain": [
              "<Figure size 720x432 with 1 Axes>"
            ]
          },
          "metadata": {
            "tags": []
          }
        }
      ]
    },
    {
      "cell_type": "markdown",
      "metadata": {
        "id": "2Dlzjq-4bBlN",
        "colab_type": "text"
      },
      "source": [
        "## Review the components"
      ]
    },
    {
      "cell_type": "code",
      "metadata": {
        "id": "z-K4gfonXeRv",
        "colab_type": "code",
        "colab": {
          "base_uri": "https://localhost:8080/",
          "height": 873
        },
        "outputId": "273db8a5-590d-4fc0-b3fb-8058c0cbef0a"
      },
      "source": [
        "# get components\n",
        "fig2 = my_model.plot_components(forecast)"
      ],
      "execution_count": 24,
      "outputs": [
        {
          "output_type": "display_data",
          "data": {
            "image/png": "[encoded data removed]",
            "text/plain": [
              "<Figure size 648x864 with 4 Axes>"
            ]
          },
          "metadata": {
            "tags": []
          }
        }
      ]
    },
    {
      "cell_type": "markdown",
      "metadata": {
        "id": "vNRCr3z5Zme6",
        "colab_type": "text"
      },
      "source": [
        "# Air Traffic stuff for reference\n"
      ]
    },
    {
      "cell_type": "markdown",
      "metadata": {
        "id": "Hs79cD1KmTjR",
        "colab_type": "text"
      },
      "source": [
        "##Get data/ See data from csv file in gdrive"
      ]
    },
    {
      "cell_type": "code",
      "metadata": {
        "id": "j2Lt1w34kQYW",
        "colab_type": "code",
        "colab": {
          "base_uri": "https://localhost:8080/",
          "height": 413
        },
        "outputId": "bbbc5548-84fa-4536-c63c-fd150a2d0c10"
      },
      "source": [
        "spent_df = pd.read_csv('CCActivity20182020.csv') #from march 2018-current\n",
        "orders_df = pd.read_csv('DoorDashHistoryCSV.csv', header=None) #from jun 2018-current, set header to none\n"
      ],
      "execution_count": 21,
      "outputs": [
        {
          "output_type": "error",
          "ename": "FileNotFoundError",
          "evalue": "ignored",
          "traceback": [
            "\u001b[0;31m---------------------------------------------------------------------------\u001b[0m",
            "\u001b[0;31mFileNotFoundError\u001b[0m                         Traceback (most recent call last)",
            "\u001b[0;32m<ipython-input-21-c843e6544893>\u001b[0m in \u001b[0;36m<module>\u001b[0;34m()\u001b[0m\n\u001b[0;32m----> 1\u001b[0;31m \u001b[0mspent_df\u001b[0m \u001b[0;34m=\u001b[0m \u001b[0mpd\u001b[0m\u001b[0;34m.\u001b[0m\u001b[0mread_csv\u001b[0m\u001b[0;34m(\u001b[0m\u001b[0;34m'CCActivity20182020.csv'\u001b[0m\u001b[0;34m)\u001b[0m \u001b[0;31m#from march 2018-current\u001b[0m\u001b[0;34m\u001b[0m\u001b[0;34m\u001b[0m\u001b[0m\n\u001b[0m\u001b[1;32m      2\u001b[0m \u001b[0morders_df\u001b[0m \u001b[0;34m=\u001b[0m \u001b[0mpd\u001b[0m\u001b[0;34m.\u001b[0m\u001b[0mread_csv\u001b[0m\u001b[0;34m(\u001b[0m\u001b[0;34m'DoorDashHistoryCSV.csv'\u001b[0m\u001b[0;34m,\u001b[0m \u001b[0mheader\u001b[0m\u001b[0;34m=\u001b[0m\u001b[0;32mNone\u001b[0m\u001b[0;34m)\u001b[0m \u001b[0;31m#from jun 2018-current, set header to none\u001b[0m\u001b[0;34m\u001b[0m\u001b[0;34m\u001b[0m\u001b[0m\n",
            "\u001b[0;32m/usr/local/lib/python3.6/dist-packages/pandas/io/parsers.py\u001b[0m in \u001b[0;36mparser_f\u001b[0;34m(filepath_or_buffer, sep, delimiter, header, names, index_col, usecols, squeeze, prefix, mangle_dupe_cols, dtype, engine, converters, true_values, false_values, skipinitialspace, skiprows, skipfooter, nrows, na_values, keep_default_na, na_filter, verbose, skip_blank_lines, parse_dates, infer_datetime_format, keep_date_col, date_parser, dayfirst, cache_dates, iterator, chunksize, compression, thousands, decimal, lineterminator, quotechar, quoting, doublequote, escapechar, comment, encoding, dialect, error_bad_lines, warn_bad_lines, delim_whitespace, low_memory, memory_map, float_precision)\u001b[0m\n\u001b[1;32m    674\u001b[0m         )\n\u001b[1;32m    675\u001b[0m \u001b[0;34m\u001b[0m\u001b[0m\n\u001b[0;32m--> 676\u001b[0;31m         \u001b[0;32mreturn\u001b[0m \u001b[0m_read\u001b[0m\u001b[0;34m(\u001b[0m\u001b[0mfilepath_or_buffer\u001b[0m\u001b[0;34m,\u001b[0m \u001b[0mkwds\u001b[0m\u001b[0;34m)\u001b[0m\u001b[0;34m\u001b[0m\u001b[0;34m\u001b[0m\u001b[0m\n\u001b[0m\u001b[1;32m    677\u001b[0m \u001b[0;34m\u001b[0m\u001b[0m\n\u001b[1;32m    678\u001b[0m     \u001b[0mparser_f\u001b[0m\u001b[0;34m.\u001b[0m\u001b[0m__name__\u001b[0m \u001b[0;34m=\u001b[0m \u001b[0mname\u001b[0m\u001b[0;34m\u001b[0m\u001b[0;34m\u001b[0m\u001b[0m\n",
            "\u001b[0;32m/usr/local/lib/python3.6/dist-packages/pandas/io/parsers.py\u001b[0m in \u001b[0;36m_read\u001b[0;34m(filepath_or_buffer, kwds)\u001b[0m\n\u001b[1;32m    446\u001b[0m \u001b[0;34m\u001b[0m\u001b[0m\n\u001b[1;32m    447\u001b[0m     \u001b[0;31m# Create the parser.\u001b[0m\u001b[0;34m\u001b[0m\u001b[0;34m\u001b[0m\u001b[0;34m\u001b[0m\u001b[0m\n\u001b[0;32m--> 448\u001b[0;31m     \u001b[0mparser\u001b[0m \u001b[0;34m=\u001b[0m \u001b[0mTextFileReader\u001b[0m\u001b[0;34m(\u001b[0m\u001b[0mfp_or_buf\u001b[0m\u001b[0;34m,\u001b[0m \u001b[0;34m**\u001b[0m\u001b[0mkwds\u001b[0m\u001b[0;34m)\u001b[0m\u001b[0;34m\u001b[0m\u001b[0;34m\u001b[0m\u001b[0m\n\u001b[0m\u001b[1;32m    449\u001b[0m \u001b[0;34m\u001b[0m\u001b[0m\n\u001b[1;32m    450\u001b[0m     \u001b[0;32mif\u001b[0m \u001b[0mchunksize\u001b[0m \u001b[0;32mor\u001b[0m \u001b[0miterator\u001b[0m\u001b[0;34m:\u001b[0m\u001b[0;34m\u001b[0m\u001b[0;34m\u001b[0m\u001b[0m\n",
            "\u001b[0;32m/usr/local/lib/python3.6/dist-packages/pandas/io/parsers.py\u001b[0m in \u001b[0;36m__init__\u001b[0;34m(self, f, engine, **kwds)\u001b[0m\n\u001b[1;32m    878\u001b[0m             \u001b[0mself\u001b[0m\u001b[0;34m.\u001b[0m\u001b[0moptions\u001b[0m\u001b[0;34m[\u001b[0m\u001b[0;34m\"has_index_names\"\u001b[0m\u001b[0;34m]\u001b[0m \u001b[0;34m=\u001b[0m \u001b[0mkwds\u001b[0m\u001b[0;34m[\u001b[0m\u001b[0;34m\"has_index_names\"\u001b[0m\u001b[0;34m]\u001b[0m\u001b[0;34m\u001b[0m\u001b[0;34m\u001b[0m\u001b[0m\n\u001b[1;32m    879\u001b[0m \u001b[0;34m\u001b[0m\u001b[0m\n\u001b[0;32m--> 880\u001b[0;31m         \u001b[0mself\u001b[0m\u001b[0;34m.\u001b[0m\u001b[0m_make_engine\u001b[0m\u001b[0;34m(\u001b[0m\u001b[0mself\u001b[0m\u001b[0;34m.\u001b[0m\u001b[0mengine\u001b[0m\u001b[0;34m)\u001b[0m\u001b[0;34m\u001b[0m\u001b[0;34m\u001b[0m\u001b[0m\n\u001b[0m\u001b[1;32m    881\u001b[0m \u001b[0;34m\u001b[0m\u001b[0m\n\u001b[1;32m    882\u001b[0m     \u001b[0;32mdef\u001b[0m \u001b[0mclose\u001b[0m\u001b[0;34m(\u001b[0m\u001b[0mself\u001b[0m\u001b[0;34m)\u001b[0m\u001b[0;34m:\u001b[0m\u001b[0;34m\u001b[0m\u001b[0;34m\u001b[0m\u001b[0m\n",
            "\u001b[0;32m/usr/local/lib/python3.6/dist-packages/pandas/io/parsers.py\u001b[0m in \u001b[0;36m_make_engine\u001b[0;34m(self, engine)\u001b[0m\n\u001b[1;32m   1112\u001b[0m     \u001b[0;32mdef\u001b[0m \u001b[0m_make_engine\u001b[0m\u001b[0;34m(\u001b[0m\u001b[0mself\u001b[0m\u001b[0;34m,\u001b[0m \u001b[0mengine\u001b[0m\u001b[0;34m=\u001b[0m\u001b[0;34m\"c\"\u001b[0m\u001b[0;34m)\u001b[0m\u001b[0;34m:\u001b[0m\u001b[0;34m\u001b[0m\u001b[0;34m\u001b[0m\u001b[0m\n\u001b[1;32m   1113\u001b[0m         \u001b[0;32mif\u001b[0m \u001b[0mengine\u001b[0m \u001b[0;34m==\u001b[0m \u001b[0;34m\"c\"\u001b[0m\u001b[0;34m:\u001b[0m\u001b[0;34m\u001b[0m\u001b[0;34m\u001b[0m\u001b[0m\n\u001b[0;32m-> 1114\u001b[0;31m             \u001b[0mself\u001b[0m\u001b[0;34m.\u001b[0m\u001b[0m_engine\u001b[0m \u001b[0;34m=\u001b[0m \u001b[0mCParserWrapper\u001b[0m\u001b[0;34m(\u001b[0m\u001b[0mself\u001b[0m\u001b[0;34m.\u001b[0m\u001b[0mf\u001b[0m\u001b[0;34m,\u001b[0m \u001b[0;34m**\u001b[0m\u001b[0mself\u001b[0m\u001b[0;34m.\u001b[0m\u001b[0moptions\u001b[0m\u001b[0;34m)\u001b[0m\u001b[0;34m\u001b[0m\u001b[0;34m\u001b[0m\u001b[0m\n\u001b[0m\u001b[1;32m   1115\u001b[0m         \u001b[0;32melse\u001b[0m\u001b[0;34m:\u001b[0m\u001b[0;34m\u001b[0m\u001b[0;34m\u001b[0m\u001b[0m\n\u001b[1;32m   1116\u001b[0m             \u001b[0;32mif\u001b[0m \u001b[0mengine\u001b[0m \u001b[0;34m==\u001b[0m \u001b[0;34m\"python\"\u001b[0m\u001b[0;34m:\u001b[0m\u001b[0;34m\u001b[0m\u001b[0;34m\u001b[0m\u001b[0m\n",
            "\u001b[0;32m/usr/local/lib/python3.6/dist-packages/pandas/io/parsers.py\u001b[0m in \u001b[0;36m__init__\u001b[0;34m(self, src, **kwds)\u001b[0m\n\u001b[1;32m   1889\u001b[0m         \u001b[0mkwds\u001b[0m\u001b[0;34m[\u001b[0m\u001b[0;34m\"usecols\"\u001b[0m\u001b[0;34m]\u001b[0m \u001b[0;34m=\u001b[0m \u001b[0mself\u001b[0m\u001b[0;34m.\u001b[0m\u001b[0musecols\u001b[0m\u001b[0;34m\u001b[0m\u001b[0;34m\u001b[0m\u001b[0m\n\u001b[1;32m   1890\u001b[0m \u001b[0;34m\u001b[0m\u001b[0m\n\u001b[0;32m-> 1891\u001b[0;31m         \u001b[0mself\u001b[0m\u001b[0;34m.\u001b[0m\u001b[0m_reader\u001b[0m \u001b[0;34m=\u001b[0m \u001b[0mparsers\u001b[0m\u001b[0;34m.\u001b[0m\u001b[0mTextReader\u001b[0m\u001b[0;34m(\u001b[0m\u001b[0msrc\u001b[0m\u001b[0;34m,\u001b[0m \u001b[0;34m**\u001b[0m\u001b[0mkwds\u001b[0m\u001b[0;34m)\u001b[0m\u001b[0;34m\u001b[0m\u001b[0;34m\u001b[0m\u001b[0m\n\u001b[0m\u001b[1;32m   1892\u001b[0m         \u001b[0mself\u001b[0m\u001b[0;34m.\u001b[0m\u001b[0munnamed_cols\u001b[0m \u001b[0;34m=\u001b[0m \u001b[0mself\u001b[0m\u001b[0;34m.\u001b[0m\u001b[0m_reader\u001b[0m\u001b[0;34m.\u001b[0m\u001b[0munnamed_cols\u001b[0m\u001b[0;34m\u001b[0m\u001b[0;34m\u001b[0m\u001b[0m\n\u001b[1;32m   1893\u001b[0m \u001b[0;34m\u001b[0m\u001b[0m\n",
            "\u001b[0;32mpandas/_libs/parsers.pyx\u001b[0m in \u001b[0;36mpandas._libs.parsers.TextReader.__cinit__\u001b[0;34m()\u001b[0m\n",
            "\u001b[0;32mpandas/_libs/parsers.pyx\u001b[0m in \u001b[0;36mpandas._libs.parsers.TextReader._setup_parser_source\u001b[0;34m()\u001b[0m\n",
            "\u001b[0;31mFileNotFoundError\u001b[0m: [Errno 2] File CCActivity20182020.csv does not exist: 'CCActivity20182020.csv'"
          ]
        }
      ]
    },
    {
      "cell_type": "code",
      "metadata": {
        "id": "CdOkrz4Us4c4",
        "colab_type": "code",
        "colab": {}
      },
      "source": [
        "o_df = pd.DataFrame({'restaurant':orders_df[0].iloc[::3].values,\n",
        "                     'datebill':orders_df[0].iloc[1::3].values,\n",
        "                    'items':orders_df[0].iloc[2::3].values})\n",
        "o_df.head(5)"
      ],
      "execution_count": null,
      "outputs": []
    },
    {
      "cell_type": "markdown",
      "metadata": {
        "id": "KFVCDFJG39It",
        "colab_type": "text"
      },
      "source": [
        "##Explode Data"
      ]
    },
    {
      "cell_type": "code",
      "metadata": {
        "id": "Q_HaejoHvhFw",
        "colab_type": "code",
        "colab": {}
      },
      "source": [
        "o_df['bill'] = o_df['datebill'].str.extract('(\\d\\d\\.\\d\\d)', expand=True)\n",
        "o_df['bill'] = o_df['bill'].astype('float')\n",
        "\n",
        "o_df['date'] = o_df['datebill'].str.extract('(\\w\\w\\w\\s\\d*\\w\\w\\s\\d*\\,\\s\\d*:\\d\\d\\w\\w)', expand=True)\n",
        "o_df['date'] = pd.to_datetime(o_df['date'])\n",
        "# o_df['dt'] = o_df['dt'].fillna(0)\n",
        "\n",
        "o_df['items'] = o_df['items'].str.split(pat=r\",\\ \", expand=False)\n",
        "o_df.head(5)"
      ],
      "execution_count": null,
      "outputs": []
    },
    {
      "cell_type": "code",
      "metadata": {
        "id": "AFhc0vFyHtT9",
        "colab_type": "code",
        "colab": {}
      },
      "source": [
        "o_df['hr'] = o_df['date'].dt.hour\n",
        "o_df['dow'] = o_df['date'].dt.dayofweek\n",
        "o_df['dow'].unique()"
      ],
      "execution_count": null,
      "outputs": []
    },
    {
      "cell_type": "code",
      "metadata": {
        "id": "qlsJOJHdPUMV",
        "colab_type": "code",
        "colab": {}
      },
      "source": [
        "o_df.dtypes\n",
        "o_df.bfill(axis='rows') # fill the NaNs\n"
      ],
      "execution_count": null,
      "outputs": []
    },
    {
      "cell_type": "code",
      "metadata": {
        "id": "OOToikPI-KAP",
        "colab_type": "code",
        "colab": {}
      },
      "source": [
        "#  === WHERE DID I ORDER THE MOST (ALTAIR ed) #######################################\n",
        "\n",
        "bars = alt.Chart(o_df).mark_bar().encode(\n",
        "    alt.Y('restaurant:N', sort=\"-x\", axis=alt.Axis(title='Restaurants')),\n",
        "    alt.X('count(restaurant):Q', axis=alt.Axis(title='# of Times Ordered', orient='top')),\n",
        "    color='year(date)',\n",
        "    tooltip=('sum(bill)')\n",
        ")\n",
        "\n",
        "text = bars.mark_text(\n",
        "    align='left',\n",
        "    baseline='middle',\n",
        "    dx=3  # Nudges text to right so it doesn't appear on top of the bar\n",
        ").encode(\n",
        "    text='sum(bill):Q'\n",
        ")\n",
        "\n",
        "(bars + text).properties(height=900)"
      ],
      "execution_count": null,
      "outputs": []
    },
    {
      "cell_type": "code",
      "metadata": {
        "id": "ZqaF2ZB2nj-S",
        "colab_type": "code",
        "colab": {}
      },
      "source": [
        "#  === WHERE DID I ORDER THE MOST (ALTAIR ed) #######################################\n",
        "\n",
        "alt.Chart(o_df).mark_bar().encode(\n",
        "    alt.Y('restaurant:N', sort=\"-x\", axis=alt.Axis(title='Restaurants')),\n",
        "    alt.X('count(restaurant):Q', axis=alt.Axis(title='# of Times Ordered', orient='top')),\n",
        "    color='year(date)',\n",
        "    tooltip=('sum(bill)')\n",
        ").interactive() "
      ],
      "execution_count": null,
      "outputs": []
    },
    {
      "cell_type": "code",
      "metadata": {
        "id": "GacX6Dp7Fp_J",
        "colab_type": "code",
        "colab": {}
      },
      "source": [
        "\n",
        "#### ==== behavior per month? #####\n",
        "\n",
        "alt.Chart(o_df).mark_bar().encode(\n",
        "    x = alt.X('month(date)',axis=alt.Axis(title='Month (years are collapsed)')),\n",
        "    y = alt.Y('bill',axis=alt.Axis(title='$$$')),\n",
        "    shape='year(date):O',\n",
        "    color='year(date):O',\n",
        "    tooltip=('restaurant','mean(bill)','date','items')\n",
        ").transform_bin(\n",
        "    'binned_count', field='date'\n",
        ").interactive()\n"
      ],
      "execution_count": null,
      "outputs": []
    },
    {
      "cell_type": "code",
      "metadata": {
        "id": "Wi-HTErrc5bt",
        "colab_type": "code",
        "colab": {}
      },
      "source": [
        "\n",
        "#### ==== behavior per month? #####\n",
        "\n",
        "alt.Chart(o_df).mark_bar().encode(\n",
        "    x = alt.X('month(date)',axis=alt.Axis(title='Month (years are collapsed)')),\n",
        "    y = alt.Y('count()',axis=alt.Axis(title='# of times ordered')),\n",
        "    shape='year(date):O',\n",
        "    color='year(date):O',\n",
        "    tooltip=('restaurant','count()','date','items')\n",
        ").transform_bin(\n",
        "    'binned_count', field='date'\n",
        ").interactive()"
      ],
      "execution_count": null,
      "outputs": []
    },
    {
      "cell_type": "code",
      "metadata": {
        "id": "KyePwlZ5ds_9",
        "colab_type": "code",
        "colab": {}
      },
      "source": [
        "alt.Chart(o_df).mark_point().encode(\n",
        "    alt.X('month(date):Q', scale=alt.Scale(zero=False)),\n",
        "    y='count():N',\n",
        "    color='year:N',\n",
        "    facet=alt.Facet('year(date):O', columns=1),\n",
        ").properties(\n",
        "    width=300,\n",
        "    height=100,\n",
        ")"
      ],
      "execution_count": null,
      "outputs": []
    },
    {
      "cell_type": "code",
      "metadata": {
        "id": "xcZLIUw6HPKd",
        "colab_type": "code",
        "colab": {}
      },
      "source": [
        "# =====WHAT DID I ORDER THE MOST (SNS ed) #######################################\n",
        "food_items =+ o_df['items']\n",
        "\n",
        "####################################\n",
        "# OMG THIS LAMBDA FUNCTION IS BOMB #\n",
        "####################################\n",
        "food_list = [item for sublist in food_items for item in sublist]\n",
        "\n",
        "(unique, counts) = np.unique(food_list, return_counts=True)\n",
        "frequencies = pd.DataFrame(np.asarray((unique, counts)).T)\n",
        "f_sorted = frequencies.sort_values(by=[1], ascending=False)\n",
        "\n",
        "for_bar = f_sorted.head(20)\n",
        "\n",
        "plt.figure(figsize=(15,5))\n",
        "barchart = sns.barplot(data=for_bar, \n",
        "            x=0, y=1,)\n",
        "barchart.set_xticklabels(barchart.get_xticklabels(),rotation=45)\n",
        "barchart.set(xlabel='Food', ylabel='Number of Times ordered', title=\"Top 20 items ordered in the last 2 years\")\n",
        "plt.show()\n",
        "\n",
        "## Boring. need to break up words into nouns and preparation"
      ],
      "execution_count": null,
      "outputs": []
    },
    {
      "cell_type": "code",
      "metadata": {
        "id": "1xq4xZvM_buJ",
        "colab_type": "code",
        "colab": {}
      },
      "source": [
        "plt.figure(figsize=(15,5))\n",
        "\n",
        "base = alt.Chart(o_df).mark_circle(opacity=0.5).transform_fold(\n",
        "    fold=['0', '1', '2', '3', '4','5','6'],\n",
        "    as_=['whatever', 'wahtever']\n",
        ").encode(\n",
        "    alt.X('month(date):O'),\n",
        "    alt.Y('mean(bill):Q'),\n",
        "    alt.Color('dow:N'),\n",
        "    tooltip=('restaurant','mean(bill)','date','items')\n",
        "\n",
        ")\n",
        "\n",
        "base + base.transform_loess('date', 'bill', groupby=['dow']).mark_line(size=4)\n"
      ],
      "execution_count": null,
      "outputs": []
    },
    {
      "cell_type": "code",
      "metadata": {
        "id": "oB-EDEuEeE-4",
        "colab_type": "code",
        "colab": {}
      },
      "source": [
        "spent_df\n",
        "spent_df.columns"
      ],
      "execution_count": null,
      "outputs": []
    },
    {
      "cell_type": "code",
      "metadata": {
        "id": "CiB5lmYDDsbB",
        "colab_type": "code",
        "colab": {}
      },
      "source": [
        "### ==== but the 9.99 cost to get free shipping is in the way\n",
        "\n",
        "line = alt.Chart(spent_df).mark_line(\n",
        "    color='red',\n",
        "    size=3\n",
        ").transform_window(\n",
        "    rolling_mean='mean(Amount)',\n",
        "    frame=[-15, 15]\n",
        ").encode(\n",
        "    x='Transaction Date:T',\n",
        "    y='rolling_mean:Q'\n",
        ")\n",
        "\n",
        "points = alt.Chart(spent_df).mark_point().encode(\n",
        "    tooltip=('Amount','Transaction Date','Description'),\n",
        "    x='Transaction Date:T',\n",
        "    y=alt.Y('Amount:Q',\n",
        "            axis=alt.Axis(title='$$$'), scale=alt.Scale(domain=[0,-90]))\n",
        "    \n",
        ")\n",
        "\n",
        "points + line\n",
        "### ==== get rid of them!"
      ],
      "execution_count": null,
      "outputs": []
    },
    {
      "cell_type": "code",
      "metadata": {
        "id": "c2e9-Fd-MQ9B",
        "colab_type": "code",
        "colab": {}
      },
      "source": [
        "no_fee_df = spent_df.loc[spent_df['Description']!= \"DOORDASH DASHPASS\"]\n",
        "no_fee_df['Amount'] = abs(no_fee_df['Amount'])\n",
        "\n",
        "line = alt.Chart(no_fee_df).mark_line(\n",
        "    color='red',\n",
        "    size=3\n",
        ").transform_window(\n",
        "    rolling_mean='mean(Amount)',\n",
        "    frame=[0, 15]\n",
        ").encode(\n",
        "    x='Transaction Date:T',\n",
        "    y='rolling_mean:Q'\n",
        ")\n",
        "\n",
        "points = alt.Chart(no_fee_df).mark_circle().encode(\n",
        "    tooltip=('Amount','Transaction Date:T','Description'),\n",
        "    x='Transaction Date:T',\n",
        "    y=alt.Y('Amount:Q',\n",
        "            axis=alt.Axis(title='$$$'), \n",
        "            scale=alt.Scale(domain=[0,90]))\n",
        ")\n",
        "\n",
        "points + line"
      ],
      "execution_count": null,
      "outputs": []
    },
    {
      "cell_type": "markdown",
      "metadata": {
        "id": "q8nJTjAjnJHH",
        "colab_type": "text"
      },
      "source": [
        "##Prediction stuff\n",
        "\n",
        "1. what's the spend like every month?\n",
        "2. what's the likelihood that i'll order particular restaurant on a particular day?\n",
        "\n"
      ]
    },
    {
      "cell_type": "code",
      "metadata": {
        "id": "l0KtpuxuJTjd",
        "colab_type": "code",
        "colab": {}
      },
      "source": [
        "# change bill to positive numbers\n",
        "pdf = no_fee_df[['Transaction Date','Amount']]\n",
        "pdf['Amount'] = abs(pdf['Amount'])\n",
        "pdf.set_index('Transaction Date').plot(figsize=(12, 8))\n",
        "plt.show()"
      ],
      "execution_count": null,
      "outputs": []
    },
    {
      "cell_type": "code",
      "metadata": {
        "id": "DMQvYCsXE1WV",
        "colab_type": "code",
        "colab": {}
      },
      "source": [
        "pdf.rename(columns={'Transaction Date': 'ds', 'Amount': 'y'},inplace=True)\n",
        "# pdf.reset_index(drop=True, inplace=True)\n",
        "pdf.head(3)\n",
        "# pdf.set_index('0', drop=True)"
      ],
      "execution_count": null,
      "outputs": []
    },
    {
      "cell_type": "code",
      "metadata": {
        "id": "ULjsFbmNQqy_",
        "colab_type": "code",
        "colab": {}
      },
      "source": [
        "pdf.rename(columns={'DS': 'ds', 'Amount': 'y'},inplace=True)\n",
        "pdf"
      ],
      "execution_count": null,
      "outputs": []
    },
    {
      "cell_type": "code",
      "metadata": {
        "id": "2eBn-GMGQG8f",
        "colab_type": "code",
        "colab": {}
      },
      "source": [
        "my_model = Prophet(interval_width=0.95)\n",
        "my_model.fit(pdf)"
      ],
      "execution_count": null,
      "outputs": []
    },
    {
      "cell_type": "code",
      "metadata": {
        "id": "vjrGKyyWN67N",
        "colab_type": "code",
        "colab": {}
      },
      "source": [
        "future_dates =  my_model.make_future_dataframe(periods=18, freq='MS')\n",
        "future_dates.tail()"
      ],
      "execution_count": null,
      "outputs": []
    },
    {
      "cell_type": "code",
      "metadata": {
        "id": "IdezaOUvTRk8",
        "colab_type": "code",
        "colab": {}
      },
      "source": [
        "forecast =  my_model.predict(future_dates)\n",
        "forecast.tail()"
      ],
      "execution_count": null,
      "outputs": []
    },
    {
      "cell_type": "code",
      "metadata": {
        "id": "9krB0sxGKvql",
        "colab_type": "code",
        "colab": {}
      },
      "source": [
        "my_model.plot(forecast, uncertainty=True)\n",
        "from fbprophet.plot import add_changepoints_to_plot\n",
        "fig_air = my_model.plot(forecast)\n",
        "a = add_changepoints_to_plot(fig_air.gca(), my_model, forecast)"
      ],
      "execution_count": null,
      "outputs": []
    },
    {
      "cell_type": "code",
      "metadata": {
        "id": "QtpGjbNJrd73",
        "colab_type": "code",
        "colab": {}
      },
      "source": [
        "# get components\n",
        "fig2 = my_model.plot_components(forecast)\n"
      ],
      "execution_count": null,
      "outputs": []
    },
    {
      "cell_type": "code",
      "metadata": {
        "id": "1xkuS6MJegXI",
        "colab_type": "code",
        "colab": {}
      },
      "source": [
        "from fbprophet.plot import add_changepoints_to_plot\n",
        "fig_air = my_model.plot(forecast)\n",
        "a = add_changepoints_to_plot(fig_air.gca(), my_model, forecast)"
      ],
      "execution_count": null,
      "outputs": []
    },
    {
      "cell_type": "code",
      "metadata": {
        "id": "rSF3HppOhljO",
        "colab_type": "code",
        "colab": {}
      },
      "source": [
        "fig2 = my_model.plot_components(forecast)\n"
      ],
      "execution_count": null,
      "outputs": []
    },
    {
      "cell_type": "code",
      "metadata": {
        "id": "n3AZyKWiM9Pl",
        "colab_type": "code",
        "colab": {}
      },
      "source": [
        "holidays.UnitedStates()"
      ],
      "execution_count": null,
      "outputs": []
    },
    {
      "cell_type": "code",
      "metadata": {
        "id": "t1sZrqb_LvsC",
        "colab_type": "code",
        "colab": {}
      },
      "source": [
        "# %pip install holidays\n",
        "# import holidays\n",
        "\n",
        "holidays_df = pd.DataFrame(holidays.UnitedStates())\n",
        "\n",
        "holidays_df\n",
        "\n",
        "\n",
        "# my_model_holidays =Prophet(interval_width=0.95, yearly_seasonality=True, weekly_seasonality=True, holidays=holidays_df, changepoint_prior_scale=2)\n",
        "# my_model_holidays.add_country_holidays(country_name='US')\n",
        "\n",
        "# my_model_holidays.fit(pdf)\n"
      ],
      "execution_count": null,
      "outputs": []
    },
    {
      "cell_type": "markdown",
      "metadata": {
        "id": "RN3nSWrhihoy",
        "colab_type": "text"
      },
      "source": [
        "*month_bill_data*\n",
        "\n",
        "```\n",
        "ds\ty\n",
        "0\t2018-06\t374.50\n",
        "1\t2018-07\t233.20\n",
        "2\t2018-08\t435.42\n",
        "3\t2018-09\t244.20\n",
        "4\t2018-10\t324.88\n",
        "5\t2018-11\t448.03\n",
        "6\t2018-12\t310.50\n",
        "7\t2019-01\t228.98\n",
        "8\t2019-02\t267.17\n",
        "9\t2019-03\t409.84\n",
        "10\t2019-04\t242.48\n",
        "11\t2019-05\t322.56\n",
        "12\t2019-06\t469.28\n",
        "13\t2019-07\t100.12\n",
        "14\t2019-08\t293.58\n",
        "15\t2019-09\t241.41\n",
        "16\t2019-10\t441.61\n",
        "17\t2019-11\t232.07\n",
        "18\t2019-12\t324.14\n",
        "19\t2020-01\t415.68\n",
        "20\t2020-02\t499.03\n",
        "21\t2020-03\t24.79\n",
        "22\t2020-04\t204.97\n",
        "23\t2020-05\t307.18\n",
        "```\n",
        "\n"
      ]
    }
  ]
}