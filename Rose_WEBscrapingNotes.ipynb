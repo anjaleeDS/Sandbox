{
  "nbformat": 4,
  "nbformat_minor": 0,
  "metadata": {
    "colab": {
      "name": "Rose_WEBscrapingNotes.ipynb",
      "provenance": [],
      "authorship_tag": "ABX9TyNt/VnubiNFPOizYGdhF4QQ",
      "include_colab_link": true
    },
    "kernelspec": {
      "name": "python3",
      "display_name": "Python 3"
    }
  },
  "cells": [
    {
      "cell_type": "markdown",
      "metadata": {
        "id": "view-in-github",
        "colab_type": "text"
      },
      "source": [
        "<a href=\"https://colab.research.google.com/github/anjaleeDS/Sandbox/blob/master/Rose_WEBscrapingNotes.ipynb\" target=\"_parent\"><img src=\"https://colab.research.google.com/assets/colab-badge.svg\" alt=\"Open In Colab\"/></a>"
      ]
    },
    {
      "cell_type": "markdown",
      "metadata": {
        "id": "38IkTgmITTjy"
      },
      "source": [
        "# Pandas way to scrape and clean UC Davis rose catalog"
      ]
    },
    {
      "cell_type": "code",
      "metadata": {
        "id": "l4T0HqMQS8Ku"
      },
      "source": [
        "import lxml.etree as xml\n",
        "import requests  # go out and fetch itnative python\n",
        "import pandas as pd\n",
        "import numpy as np\n",
        "import re\n",
        "import time\n",
        "import requests\n"
      ],
      "execution_count": 2,
      "outputs": []
    },
    {
      "cell_type": "code",
      "metadata": {
        "id": "K1w1z-sJ_yfJ",
        "colab": {
          "base_uri": "https://localhost:8080/"
        },
        "outputId": "765c9929-7e01-4d7a-db61-7042f58c7592"
      },
      "source": [
        "from google.colab import drive\n",
        "drive.mount('drive')\n",
        "%cd drive/My Drive/Colab Notebooks/webscraping\n"
      ],
      "execution_count": 3,
      "outputs": [
        {
          "output_type": "stream",
          "text": [
            "Mounted at drive\n",
            "/content/drive/My Drive/Colab Notebooks/webscraping\n"
          ],
          "name": "stdout"
        }
      ]
    },
    {
      "cell_type": "code",
      "metadata": {
        "id": "x5zWV4nALe0w",
        "colab": {
          "base_uri": "https://localhost:8080/"
        },
        "outputId": "de6d719e-9639-488a-f3c5-dfe666b567fe"
      },
      "source": [
        "url = \"https://fps.ucdavis.edu/roses/collection.cfm\"\n",
        "requests.get(url)"
      ],
      "execution_count": 4,
      "outputs": [
        {
          "output_type": "execute_result",
          "data": {
            "text/plain": [
              "<Response [200]>"
            ]
          },
          "metadata": {
            "tags": []
          },
          "execution_count": 4
        }
      ]
    },
    {
      "cell_type": "markdown",
      "metadata": {
        "id": "39kMM_0lfb_D"
      },
      "source": [
        "Get the table data"
      ]
    },
    {
      "cell_type": "code",
      "metadata": {
        "id": "9_xv_K8Ta2pn"
      },
      "source": [
        "r=requests.get(url)\n",
        "df_list= pd.read_html(r.text)\n"
      ],
      "execution_count": 140,
      "outputs": []
    },
    {
      "cell_type": "markdown",
      "metadata": {
        "id": "-W_027iOiW8G"
      },
      "source": [
        "make into a dataframe"
      ]
    },
    {
      "cell_type": "code",
      "metadata": {
        "colab": {
          "base_uri": "https://localhost:8080/"
        },
        "id": "XdQLaLTliYc6",
        "outputId": "11e068e2-286a-4549-8790-e46cf54bac4f"
      },
      "source": [
        "df = pd.DataFrame(data=df_list[1],copy=True)\n",
        "df.shape"
      ],
      "execution_count": 202,
      "outputs": [
        {
          "output_type": "execute_result",
          "data": {
            "text/plain": [
              "(821, 6)"
            ]
          },
          "metadata": {
            "tags": []
          },
          "execution_count": 202
        }
      ]
    },
    {
      "cell_type": "markdown",
      "metadata": {
        "id": "NuIJL8Kag8kL"
      },
      "source": [
        "clean the headers"
      ]
    },
    {
      "cell_type": "code",
      "metadata": {
        "colab": {
          "base_uri": "https://localhost:8080/"
        },
        "id": "KDgJXUywbRn_",
        "outputId": "701b600e-88c9-4e47-bbab-8e0c2a51104a"
      },
      "source": [
        "df.columns = df.columns.str.strip() # blanks\n",
        "df.columns = df.columns.str.replace(r\"[^a-zA-Z\\d\\_]+\", \"\")\n",
        "\n",
        "df.columns\n"
      ],
      "execution_count": 203,
      "outputs": [
        {
          "output_type": "execute_result",
          "data": {
            "text/plain": [
              "Index(['Unnamed0', 'Cultivar', 'FlowerColor', 'FlowerColor1', 'PlantType',\n",
              "       'Fragrance'],\n",
              "      dtype='object')"
            ]
          },
          "metadata": {
            "tags": []
          },
          "execution_count": 203
        }
      ]
    },
    {
      "cell_type": "markdown",
      "metadata": {
        "id": "NYhhUeUvjDTX"
      },
      "source": [
        "take out columns that have no data\n"
      ]
    },
    {
      "cell_type": "code",
      "metadata": {
        "colab": {
          "base_uri": "https://localhost:8080/"
        },
        "id": "HCacj2emjHPm",
        "outputId": "74126b6c-313a-4fcf-8694-e659754dafd7"
      },
      "source": [
        "for col in df.columns:\n",
        "  if df[col].count()==0:\n",
        "    # print(col)\n",
        "    df = df.drop(col, axis=1)  \n",
        "\n",
        "df.columns\n"
      ],
      "execution_count": 204,
      "outputs": [
        {
          "output_type": "execute_result",
          "data": {
            "text/plain": [
              "Index(['Cultivar', 'FlowerColor1', 'PlantType', 'Fragrance'], dtype='object')"
            ]
          },
          "metadata": {
            "tags": []
          },
          "execution_count": 204
        }
      ]
    },
    {
      "cell_type": "code",
      "metadata": {
        "colab": {
          "base_uri": "https://localhost:8080/"
        },
        "id": "MsYcTdY_r2ee",
        "outputId": "81f8e10e-32ec-4cfa-858d-35c8d4654450"
      },
      "source": [
        "df.shape[1]"
      ],
      "execution_count": 205,
      "outputs": [
        {
          "output_type": "execute_result",
          "data": {
            "text/plain": [
              "4"
            ]
          },
          "metadata": {
            "tags": []
          },
          "execution_count": 205
        }
      ]
    },
    {
      "cell_type": "markdown",
      "metadata": {
        "id": "ICvQw4BZnLe2"
      },
      "source": [
        "get the detail page URLs"
      ]
    },
    {
      "cell_type": "code",
      "metadata": {
        "colab": {
          "base_uri": "https://localhost:8080/",
          "height": 414
        },
        "id": "x17ba0YGnLSE",
        "outputId": "83f75855-9c9a-4896-8893-85c2eda5eb23"
      },
      "source": [
        "d_url = (re.findall('cultivar.cfm\\?varietyid=\\d+', r.text)) # get all the onclicks\n",
        "d_url = pd.DataFrame(data=d_url) # stick them in a df\n",
        "\n",
        "df = (pd.concat([df,d_url],axis=1)) # concat the dfs together\n",
        "df = df.rename({df.columns[df.shape[1]-1] :'details'},axis=1) # rename that concated column to the correct column name\n",
        "\n",
        "df"
      ],
      "execution_count": 206,
      "outputs": [
        {
          "output_type": "execute_result",
          "data": {
            "text/html": [
              "<div>\n",
              "<style scoped>\n",
              "    .dataframe tbody tr th:only-of-type {\n",
              "        vertical-align: middle;\n",
              "    }\n",
              "\n",
              "    .dataframe tbody tr th {\n",
              "        vertical-align: top;\n",
              "    }\n",
              "\n",
              "    .dataframe thead th {\n",
              "        text-align: right;\n",
              "    }\n",
              "</style>\n",
              "<table border=\"1\" class=\"dataframe\">\n",
              "  <thead>\n",
              "    <tr style=\"text-align: right;\">\n",
              "      <th></th>\n",
              "      <th>Cultivar</th>\n",
              "      <th>FlowerColor1</th>\n",
              "      <th>PlantType</th>\n",
              "      <th>Fragrance</th>\n",
              "      <th>details</th>\n",
              "    </tr>\n",
              "  </thead>\n",
              "  <tbody>\n",
              "    <tr>\n",
              "      <th>0</th>\n",
              "      <td>A Shropshire Lad ®</td>\n",
              "      <td>light pink</td>\n",
              "      <td>Shrub</td>\n",
              "      <td>moderate</td>\n",
              "      <td>cultivar.cfm?varietyid=3568</td>\n",
              "    </tr>\n",
              "    <tr>\n",
              "      <th>1</th>\n",
              "      <td>Abbaye De Cluny ™</td>\n",
              "      <td>apricot &amp; apricot blend</td>\n",
              "      <td>Hybrid Tea &amp; Climbing Hybrid Tea</td>\n",
              "      <td>slight</td>\n",
              "      <td>cultivar.cfm?varietyid=2132</td>\n",
              "    </tr>\n",
              "    <tr>\n",
              "      <th>2</th>\n",
              "      <td>About Face ™</td>\n",
              "      <td>orange &amp; orange blend</td>\n",
              "      <td>Grandiflora &amp; Climbing Grandiflora</td>\n",
              "      <td>none</td>\n",
              "      <td>cultivar.cfm?varietyid=2774</td>\n",
              "    </tr>\n",
              "    <tr>\n",
              "      <th>3</th>\n",
              "      <td>Above All ™</td>\n",
              "      <td>orange &amp; orange blend</td>\n",
              "      <td>Large-Flowered Climber</td>\n",
              "      <td>moderate - fruity</td>\n",
              "      <td>cultivar.cfm?varietyid=4973</td>\n",
              "    </tr>\n",
              "    <tr>\n",
              "      <th>4</th>\n",
              "      <td>Above and Beyond ™</td>\n",
              "      <td>apricot &amp; apricot blend</td>\n",
              "      <td>Large-Flowered Climber</td>\n",
              "      <td>moderate - spice</td>\n",
              "      <td>cultivar.cfm?varietyid=6254</td>\n",
              "    </tr>\n",
              "    <tr>\n",
              "      <th>...</th>\n",
              "      <td>...</td>\n",
              "      <td>...</td>\n",
              "      <td>...</td>\n",
              "      <td>...</td>\n",
              "      <td>...</td>\n",
              "    </tr>\n",
              "    <tr>\n",
              "      <th>816</th>\n",
              "      <td>Young Lycidas</td>\n",
              "      <td>deep pink</td>\n",
              "      <td>Shrub</td>\n",
              "      <td>intense - delicious tea and old rose with hint...</td>\n",
              "      <td>cultivar.cfm?varietyid=6060</td>\n",
              "    </tr>\n",
              "    <tr>\n",
              "      <th>817</th>\n",
              "      <td>You're the One ™</td>\n",
              "      <td>pink blend</td>\n",
              "      <td>Miniature &amp; Climbing Miniature</td>\n",
              "      <td>slight</td>\n",
              "      <td>cultivar.cfm?varietyid=5005</td>\n",
              "    </tr>\n",
              "    <tr>\n",
              "      <th>818</th>\n",
              "      <td>Yuletide</td>\n",
              "      <td>medium red</td>\n",
              "      <td>Hybrid Tea &amp; Climbing Hybrid Tea</td>\n",
              "      <td>slight</td>\n",
              "      <td>cultivar.cfm?varietyid=1631</td>\n",
              "    </tr>\n",
              "    <tr>\n",
              "      <th>819</th>\n",
              "      <td>Yves Piaget ®</td>\n",
              "      <td>medium pink</td>\n",
              "      <td>Hybrid Tea &amp; Climbing Hybrid Tea</td>\n",
              "      <td>intense</td>\n",
              "      <td>cultivar.cfm?varietyid=1704</td>\n",
              "    </tr>\n",
              "    <tr>\n",
              "      <th>820</th>\n",
              "      <td>Zéphirine Drouhin</td>\n",
              "      <td>medium pink</td>\n",
              "      <td>Bourbon &amp; Climbing Bourbon</td>\n",
              "      <td>strong - damask</td>\n",
              "      <td>cultivar.cfm?varietyid=4870</td>\n",
              "    </tr>\n",
              "  </tbody>\n",
              "</table>\n",
              "<p>821 rows × 5 columns</p>\n",
              "</div>"
            ],
            "text/plain": [
              "               Cultivar  ...                      details\n",
              "0    A Shropshire Lad ®  ...  cultivar.cfm?varietyid=3568\n",
              "1     Abbaye De Cluny ™  ...  cultivar.cfm?varietyid=2132\n",
              "2          About Face ™  ...  cultivar.cfm?varietyid=2774\n",
              "3           Above All ™  ...  cultivar.cfm?varietyid=4973\n",
              "4    Above and Beyond ™  ...  cultivar.cfm?varietyid=6254\n",
              "..                  ...  ...                          ...\n",
              "816       Young Lycidas  ...  cultivar.cfm?varietyid=6060\n",
              "817    You're the One ™  ...  cultivar.cfm?varietyid=5005\n",
              "818            Yuletide  ...  cultivar.cfm?varietyid=1631\n",
              "819       Yves Piaget ®  ...  cultivar.cfm?varietyid=1704\n",
              "820   Zéphirine Drouhin  ...  cultivar.cfm?varietyid=4870\n",
              "\n",
              "[821 rows x 5 columns]"
            ]
          },
          "metadata": {
            "tags": []
          },
          "execution_count": 206
        }
      ]
    },
    {
      "cell_type": "code",
      "metadata": {
        "id": "Kv4Vu4sC7MbT"
      },
      "source": [
        "# make all of the details into urls with detail\n",
        "df['details'] = df.apply(lambda x:\"https://fps.ucdavis.edu/roses/\"+  x['details'], axis=1)"
      ],
      "execution_count": 207,
      "outputs": []
    },
    {
      "cell_type": "markdown",
      "metadata": {
        "id": "P5D_8WHKpK7G"
      },
      "source": [
        "fetch the details from the detail page"
      ]
    },
    {
      "cell_type": "code",
      "metadata": {
        "id": "TrH3FoQW1zNq"
      },
      "source": [
        "def add_details(detail_url, df):\n",
        "  d = requests.get(detail_url)\n",
        "  return(pd.read_html(d.text))"
      ],
      "execution_count": 210,
      "outputs": []
    },
    {
      "cell_type": "code",
      "metadata": {
        "colab": {
          "base_uri": "https://localhost:8080/",
          "height": 35
        },
        "id": "RwLnqh1-8gVU",
        "outputId": "3df928b5-e081-454e-96af-59f0e8c785ff"
      },
      "source": [
        "df['details'][0]"
      ],
      "execution_count": 211,
      "outputs": [
        {
          "output_type": "execute_result",
          "data": {
            "application/vnd.google.colaboratory.intrinsic+json": {
              "type": "string"
            },
            "text/plain": [
              "'https://fps.ucdavis.edu/roses/cultivar.cfm?varietyid=3568'"
            ]
          },
          "metadata": {
            "tags": []
          },
          "execution_count": 211
        }
      ]
    },
    {
      "cell_type": "code",
      "metadata": {
        "id": "4YVHnVYN72yD"
      },
      "source": [
        "stuff = add_details(df['details'][0], df)"
      ],
      "execution_count": 213,
      "outputs": []
    },
    {
      "cell_type": "code",
      "metadata": {
        "colab": {
          "base_uri": "https://localhost:8080/",
          "height": 164
        },
        "id": "85aqrl1W9o-H",
        "outputId": "ca50e329-1d3b-48e0-86f9-0b44b7763f57"
      },
      "source": [
        "stuff.shape"
      ],
      "execution_count": 222,
      "outputs": [
        {
          "output_type": "error",
          "ename": "AttributeError",
          "evalue": "ignored",
          "traceback": [
            "\u001b[0;31m---------------------------------------------------------------------------\u001b[0m",
            "\u001b[0;31mAttributeError\u001b[0m                            Traceback (most recent call last)",
            "\u001b[0;32m<ipython-input-222-404f5e7733f1>\u001b[0m in \u001b[0;36m<module>\u001b[0;34m()\u001b[0m\n\u001b[0;32m----> 1\u001b[0;31m \u001b[0mstuff\u001b[0m\u001b[0;34m.\u001b[0m\u001b[0mshape\u001b[0m\u001b[0;34m\u001b[0m\u001b[0;34m\u001b[0m\u001b[0m\n\u001b[0m",
            "\u001b[0;31mAttributeError\u001b[0m: 'list' object has no attribute 'shape'"
          ]
        }
      ]
    }
  ]
}