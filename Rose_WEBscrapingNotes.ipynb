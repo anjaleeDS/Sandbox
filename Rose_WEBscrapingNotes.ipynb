{
  "nbformat": 4,
  "nbformat_minor": 0,
  "metadata": {
    "colab": {
      "name": "Rose_WEBscrapingNotes.ipynb",
      "provenance": [],
      "collapsed_sections": [],
      "authorship_tag": "ABX9TyOL2BQRj6tAlZjg2s3e3twm",
      "include_colab_link": true
    },
    "kernelspec": {
      "name": "python3",
      "display_name": "Python 3"
    }
  },
  "cells": [
    {
      "cell_type": "markdown",
      "metadata": {
        "id": "view-in-github",
        "colab_type": "text"
      },
      "source": [
        "<a href=\"https://colab.research.google.com/github/anjaleeDS/Sandbox/blob/master/Rose_WEBscrapingNotes.ipynb\" target=\"_parent\"><img src=\"https://colab.research.google.com/assets/colab-badge.svg\" alt=\"Open In Colab\"/></a>"
      ]
    },
    {
      "cell_type": "code",
      "metadata": {
        "id": "l4T0HqMQS8Ku"
      },
      "source": [
        "import lxml.etree as xml\n",
        "import requests  # go out and fetch itnative python\n",
        "import pandas as pd\n",
        "import numpy as np\n",
        "import re\n",
        "import time\n",
        "import requests\n"
      ],
      "execution_count": 2,
      "outputs": []
    },
    {
      "cell_type": "code",
      "metadata": {
        "id": "K1w1z-sJ_yfJ",
        "colab": {
          "base_uri": "https://localhost:8080/"
        },
        "outputId": "aaab2693-9440-4f57-aee1-74cc640a3a6d"
      },
      "source": [
        "from google.colab import drive\n",
        "drive.mount('drive')\n"
      ],
      "execution_count": 3,
      "outputs": [
        {
          "output_type": "stream",
          "text": [
            "Mounted at drive\n"
          ],
          "name": "stdout"
        }
      ]
    },
    {
      "cell_type": "markdown",
      "metadata": {
        "id": "38IkTgmITTjy"
      },
      "source": [
        "# Pandas way to scrape and clean UC Davis rose catalog "
      ]
    },
    {
      "cell_type": "code",
      "metadata": {
        "id": "x5zWV4nALe0w",
        "colab": {
          "base_uri": "https://localhost:8080/"
        },
        "outputId": "34da4db5-6ead-426e-e6d3-8e78d44882f2"
      },
      "source": [
        "url = \"https://fps.ucdavis.edu/roses/collection.cfm\"\n",
        "requests.get(url)"
      ],
      "execution_count": 3,
      "outputs": [
        {
          "output_type": "execute_result",
          "data": {
            "text/plain": [
              "<Response [200]>"
            ]
          },
          "metadata": {
            "tags": []
          },
          "execution_count": 3
        }
      ]
    },
    {
      "cell_type": "markdown",
      "metadata": {
        "id": "39kMM_0lfb_D"
      },
      "source": [
        "## Get the table data. No details"
      ]
    },
    {
      "cell_type": "code",
      "metadata": {
        "id": "9_xv_K8Ta2pn"
      },
      "source": [
        "r=requests.get(url)\n",
        "df_list= pd.read_html(r.text)"
      ],
      "execution_count": 4,
      "outputs": []
    },
    {
      "cell_type": "markdown",
      "metadata": {
        "id": "-W_027iOiW8G"
      },
      "source": [
        "make into a dataframe"
      ]
    },
    {
      "cell_type": "code",
      "metadata": {
        "colab": {
          "base_uri": "https://localhost:8080/"
        },
        "id": "XdQLaLTliYc6",
        "outputId": "054e9d4c-24d2-41a7-9727-21efecfe462b"
      },
      "source": [
        "df = pd.DataFrame(data=df_list[1],copy=True)\n",
        "df.shape"
      ],
      "execution_count": 5,
      "outputs": [
        {
          "output_type": "execute_result",
          "data": {
            "text/plain": [
              "(820, 6)"
            ]
          },
          "metadata": {
            "tags": []
          },
          "execution_count": 5
        }
      ]
    },
    {
      "cell_type": "markdown",
      "metadata": {
        "id": "NuIJL8Kag8kL"
      },
      "source": [
        "clean the headers"
      ]
    },
    {
      "cell_type": "code",
      "metadata": {
        "colab": {
          "base_uri": "https://localhost:8080/"
        },
        "id": "KDgJXUywbRn_",
        "outputId": "c116f795-1384-4135-ebe0-48876ef7b3b6"
      },
      "source": [
        "df.columns = df.columns.str.strip() # blanks\n",
        "df.columns = df.columns.str.replace(r\"[^a-zA-Z\\d\\_]+\", \"\")\n",
        "\n",
        "df.columns\n"
      ],
      "execution_count": 6,
      "outputs": [
        {
          "output_type": "execute_result",
          "data": {
            "text/plain": [
              "Index(['Unnamed0', 'Cultivar', 'FlowerColor', 'FlowerColor1', 'PlantType',\n",
              "       'Fragrance'],\n",
              "      dtype='object')"
            ]
          },
          "metadata": {
            "tags": []
          },
          "execution_count": 6
        }
      ]
    },
    {
      "cell_type": "markdown",
      "metadata": {
        "id": "NYhhUeUvjDTX"
      },
      "source": [
        "take out columns that have no data\n"
      ]
    },
    {
      "cell_type": "code",
      "metadata": {
        "colab": {
          "base_uri": "https://localhost:8080/"
        },
        "id": "HCacj2emjHPm",
        "outputId": "f33fef66-c048-43bb-93be-a0e9f7285aaa"
      },
      "source": [
        "for col in df.columns:\n",
        "  if df[col].count()==0:\n",
        "    # print(col)\n",
        "    df = df.drop(col, axis=1)  \n",
        "\n",
        "df.columns\n"
      ],
      "execution_count": 7,
      "outputs": [
        {
          "output_type": "execute_result",
          "data": {
            "text/plain": [
              "Index(['Cultivar', 'FlowerColor1', 'PlantType', 'Fragrance'], dtype='object')"
            ]
          },
          "metadata": {
            "tags": []
          },
          "execution_count": 7
        }
      ]
    },
    {
      "cell_type": "markdown",
      "metadata": {
        "id": "ICvQw4BZnLe2"
      },
      "source": [
        "### get the detail page URLs"
      ]
    },
    {
      "cell_type": "code",
      "metadata": {
        "id": "x17ba0YGnLSE"
      },
      "source": [
        "d_url = (re.findall('cultivar.cfm\\?varietyid=\\d+', r.text)) # get all the onclicks\n",
        "d_url = pd.DataFrame(data=d_url) # stick them in a df\n",
        "\n",
        "df = (pd.concat([df,d_url],axis=1)) # concat the dfs together\n",
        "df = df.rename({df.columns[df.shape[1]-1] :'details'},axis=1) # rename that concated column to the correct column name\n",
        "\n",
        "# make all of the details into urls with detail\n",
        "df['details'] = df.apply(lambda x:\"https://fps.ucdavis.edu/roses/\"+  x['details'], axis=1)\n"
      ],
      "execution_count": 8,
      "outputs": []
    },
    {
      "cell_type": "code",
      "metadata": {
        "colab": {
          "base_uri": "https://localhost:8080/",
          "height": 423
        },
        "id": "UHZpOEL5_CNs",
        "outputId": "358a20ea-67c7-4d37-da2c-7ca68f24a2f0"
      },
      "source": [
        "df"
      ],
      "execution_count": 9,
      "outputs": [
        {
          "output_type": "execute_result",
          "data": {
            "text/html": [
              "<div>\n",
              "<style scoped>\n",
              "    .dataframe tbody tr th:only-of-type {\n",
              "        vertical-align: middle;\n",
              "    }\n",
              "\n",
              "    .dataframe tbody tr th {\n",
              "        vertical-align: top;\n",
              "    }\n",
              "\n",
              "    .dataframe thead th {\n",
              "        text-align: right;\n",
              "    }\n",
              "</style>\n",
              "<table border=\"1\" class=\"dataframe\">\n",
              "  <thead>\n",
              "    <tr style=\"text-align: right;\">\n",
              "      <th></th>\n",
              "      <th>Cultivar</th>\n",
              "      <th>FlowerColor1</th>\n",
              "      <th>PlantType</th>\n",
              "      <th>Fragrance</th>\n",
              "      <th>details</th>\n",
              "    </tr>\n",
              "  </thead>\n",
              "  <tbody>\n",
              "    <tr>\n",
              "      <th>0</th>\n",
              "      <td>A Shropshire Lad ®</td>\n",
              "      <td>light pink</td>\n",
              "      <td>Shrub</td>\n",
              "      <td>moderate</td>\n",
              "      <td>https://fps.ucdavis.edu/roses/cultivar.cfm?var...</td>\n",
              "    </tr>\n",
              "    <tr>\n",
              "      <th>1</th>\n",
              "      <td>Abbaye De Cluny ™</td>\n",
              "      <td>apricot &amp; apricot blend</td>\n",
              "      <td>Hybrid Tea &amp; Climbing Hybrid Tea</td>\n",
              "      <td>slight</td>\n",
              "      <td>https://fps.ucdavis.edu/roses/cultivar.cfm?var...</td>\n",
              "    </tr>\n",
              "    <tr>\n",
              "      <th>2</th>\n",
              "      <td>About Face ™</td>\n",
              "      <td>orange &amp; orange blend</td>\n",
              "      <td>Grandiflora &amp; Climbing Grandiflora</td>\n",
              "      <td>none</td>\n",
              "      <td>https://fps.ucdavis.edu/roses/cultivar.cfm?var...</td>\n",
              "    </tr>\n",
              "    <tr>\n",
              "      <th>3</th>\n",
              "      <td>Above All ™</td>\n",
              "      <td>orange &amp; orange blend</td>\n",
              "      <td>Large-Flowered Climber</td>\n",
              "      <td>moderate - fruity</td>\n",
              "      <td>https://fps.ucdavis.edu/roses/cultivar.cfm?var...</td>\n",
              "    </tr>\n",
              "    <tr>\n",
              "      <th>4</th>\n",
              "      <td>Above and Beyond ™</td>\n",
              "      <td>apricot &amp; apricot blend</td>\n",
              "      <td>Large-Flowered Climber</td>\n",
              "      <td>moderate - spice</td>\n",
              "      <td>https://fps.ucdavis.edu/roses/cultivar.cfm?var...</td>\n",
              "    </tr>\n",
              "    <tr>\n",
              "      <th>...</th>\n",
              "      <td>...</td>\n",
              "      <td>...</td>\n",
              "      <td>...</td>\n",
              "      <td>...</td>\n",
              "      <td>...</td>\n",
              "    </tr>\n",
              "    <tr>\n",
              "      <th>815</th>\n",
              "      <td>Young Lycidas</td>\n",
              "      <td>deep pink</td>\n",
              "      <td>Shrub</td>\n",
              "      <td>intense - delicious tea and old rose with hint...</td>\n",
              "      <td>https://fps.ucdavis.edu/roses/cultivar.cfm?var...</td>\n",
              "    </tr>\n",
              "    <tr>\n",
              "      <th>816</th>\n",
              "      <td>You're the One ™</td>\n",
              "      <td>pink blend</td>\n",
              "      <td>Miniature &amp; Climbing Miniature</td>\n",
              "      <td>slight</td>\n",
              "      <td>https://fps.ucdavis.edu/roses/cultivar.cfm?var...</td>\n",
              "    </tr>\n",
              "    <tr>\n",
              "      <th>817</th>\n",
              "      <td>Yuletide</td>\n",
              "      <td>medium red</td>\n",
              "      <td>Hybrid Tea &amp; Climbing Hybrid Tea</td>\n",
              "      <td>slight</td>\n",
              "      <td>https://fps.ucdavis.edu/roses/cultivar.cfm?var...</td>\n",
              "    </tr>\n",
              "    <tr>\n",
              "      <th>818</th>\n",
              "      <td>Yves Piaget ®</td>\n",
              "      <td>medium pink</td>\n",
              "      <td>Hybrid Tea &amp; Climbing Hybrid Tea</td>\n",
              "      <td>intense</td>\n",
              "      <td>https://fps.ucdavis.edu/roses/cultivar.cfm?var...</td>\n",
              "    </tr>\n",
              "    <tr>\n",
              "      <th>819</th>\n",
              "      <td>Zéphirine Drouhin</td>\n",
              "      <td>medium pink</td>\n",
              "      <td>Bourbon &amp; Climbing Bourbon</td>\n",
              "      <td>strong - damask</td>\n",
              "      <td>https://fps.ucdavis.edu/roses/cultivar.cfm?var...</td>\n",
              "    </tr>\n",
              "  </tbody>\n",
              "</table>\n",
              "<p>820 rows × 5 columns</p>\n",
              "</div>"
            ],
            "text/plain": [
              "               Cultivar  ...                                            details\n",
              "0    A Shropshire Lad ®  ...  https://fps.ucdavis.edu/roses/cultivar.cfm?var...\n",
              "1     Abbaye De Cluny ™  ...  https://fps.ucdavis.edu/roses/cultivar.cfm?var...\n",
              "2          About Face ™  ...  https://fps.ucdavis.edu/roses/cultivar.cfm?var...\n",
              "3           Above All ™  ...  https://fps.ucdavis.edu/roses/cultivar.cfm?var...\n",
              "4    Above and Beyond ™  ...  https://fps.ucdavis.edu/roses/cultivar.cfm?var...\n",
              "..                  ...  ...                                                ...\n",
              "815       Young Lycidas  ...  https://fps.ucdavis.edu/roses/cultivar.cfm?var...\n",
              "816    You're the One ™  ...  https://fps.ucdavis.edu/roses/cultivar.cfm?var...\n",
              "817            Yuletide  ...  https://fps.ucdavis.edu/roses/cultivar.cfm?var...\n",
              "818       Yves Piaget ®  ...  https://fps.ucdavis.edu/roses/cultivar.cfm?var...\n",
              "819   Zéphirine Drouhin  ...  https://fps.ucdavis.edu/roses/cultivar.cfm?var...\n",
              "\n",
              "[820 rows x 5 columns]"
            ]
          },
          "metadata": {
            "tags": []
          },
          "execution_count": 9
        }
      ]
    },
    {
      "cell_type": "markdown",
      "metadata": {
        "id": "P5D_8WHKpK7G"
      },
      "source": [
        "## Fetch details from each detail page"
      ]
    },
    {
      "cell_type": "markdown",
      "metadata": {
        "id": "2w9tYq4f3kUc"
      },
      "source": [
        "### Get detail column names"
      ]
    },
    {
      "cell_type": "code",
      "metadata": {
        "id": "TrH3FoQW1zNq"
      },
      "source": [
        "def get_details(detail_url):\n",
        "  d = requests.get(detail_url) \n",
        "  dfile = (pd.read_html(d.text))\n",
        "  return dfile[2]"
      ],
      "execution_count": 10,
      "outputs": []
    },
    {
      "cell_type": "code",
      "metadata": {
        "id": "oHFXNxcnPwfV"
      },
      "source": [
        "def add_record(detail_df, new_record):\n",
        "  # detail_df_len = len(detail_df)\n",
        "  # detail_df.loc[detail_df_len] = new_record\n",
        "  # df = detail_list.merge(df, how='outer')\n",
        "  detail_df = detail_df.merge(new_record, how='outer')\n",
        "  return detail_df\n"
      ],
      "execution_count": 11,
      "outputs": []
    },
    {
      "cell_type": "code",
      "metadata": {
        "colab": {
          "base_uri": "https://localhost:8080/",
          "height": 205
        },
        "id": "jOo5oJN8FAq2",
        "outputId": "9fe931ef-a68a-4d86-8416-879a6840c014"
      },
      "source": [
        "#only take the header (col1) from first detail page grab\n",
        "data_dump = get_details(df['details'][0])  \n",
        "\n",
        "#create the detail df with columns as fields and add first record\n",
        "big_cols = list(data_dump[:][0])\n",
        "detail_df = pd.DataFrame(columns=big_cols)\n",
        "\n",
        "#first record\n",
        "detail_df_len = len(detail_df)\n",
        "detail_df.loc[detail_df_len] = list(data_dump[:][1])\n",
        "detail_df"
      ],
      "execution_count": 12,
      "outputs": [
        {
          "output_type": "execute_result",
          "data": {
            "text/html": [
              "<div>\n",
              "<style scoped>\n",
              "    .dataframe tbody tr th:only-of-type {\n",
              "        vertical-align: middle;\n",
              "    }\n",
              "\n",
              "    .dataframe tbody tr th {\n",
              "        vertical-align: top;\n",
              "    }\n",
              "\n",
              "    .dataframe thead th {\n",
              "        text-align: right;\n",
              "    }\n",
              "</style>\n",
              "<table border=\"1\" class=\"dataframe\">\n",
              "  <thead>\n",
              "    <tr style=\"text-align: right;\">\n",
              "      <th></th>\n",
              "      <th>Cultivar Name:</th>\n",
              "      <th>Synonyms:</th>\n",
              "      <th>Patent:</th>\n",
              "      <th>Description:</th>\n",
              "      <th>Registration Name:</th>\n",
              "      <th>Classification:</th>\n",
              "      <th>Climber:</th>\n",
              "      <th>Petal Color:</th>\n",
              "      <th>Hybridizer:</th>\n",
              "      <th>Flower Form:</th>\n",
              "      <th>Fragrance:</th>\n",
              "      <th>Foliage:</th>\n",
              "      <th>Prickle:</th>\n",
              "      <th>Awards:</th>\n",
              "      <th>References:</th>\n",
              "      <th>Parentage:</th>\n",
              "    </tr>\n",
              "  </thead>\n",
              "  <tbody>\n",
              "    <tr>\n",
              "      <th>0</th>\n",
              "      <td>A Shropshire Lad ®</td>\n",
              "      <td>'L/58/88'</td>\n",
              "      <td>David Austin Roses Limited  PP10607</td>\n",
              "      <td>Introduction Year: 1996; sub-type: English Lea...</td>\n",
              "      <td>Ausled</td>\n",
              "      <td>S - Shrub</td>\n",
              "      <td>No</td>\n",
              "      <td>light pink</td>\n",
              "      <td>Austin, David</td>\n",
              "      <td>flowers strikingly beautiful soft peachy pink,...</td>\n",
              "      <td>moderate</td>\n",
              "      <td>medium size, medium green, semi-glossy</td>\n",
              "      <td>thornless or almost thornless</td>\n",
              "      <td>RHS Award of Garden Merit (2012)</td>\n",
              "      <td>Modern Roses 12  www.davidaustinroses.com  www...</td>\n",
              "      <td>Heritage x unnamed seedling</td>\n",
              "    </tr>\n",
              "  </tbody>\n",
              "</table>\n",
              "</div>"
            ],
            "text/plain": [
              "       Cultivar Name:  ...                   Parentage:\n",
              "0  A Shropshire Lad ®  ...  Heritage x unnamed seedling\n",
              "\n",
              "[1 rows x 16 columns]"
            ]
          },
          "metadata": {
            "tags": []
          },
          "execution_count": 12
        }
      ]
    },
    {
      "cell_type": "markdown",
      "metadata": {
        "id": "v4SchGGTwJnb"
      },
      "source": [
        "### append rose records onto ddf using column name as join on field"
      ]
    },
    {
      "cell_type": "code",
      "metadata": {
        "id": "WEoiLj-k_tA0"
      },
      "source": [
        "i=1\n",
        "while i in range(df.shape[0]):\n",
        "  # next record from main df\n",
        "  detail_dump = get_details(df['details'][i])\n",
        "  # next_record_df = prep_record(detail_dump)\n",
        "\n",
        "  # transpose it\n",
        "  t_dd = detail_dump.transpose()\n",
        "  # copy first row as column names and recopy df to start from df[1]\n",
        "  t_dd.columns= t_dd.iloc[0]\n",
        "  t_dd = t_dd[1:]\n",
        "\n",
        "\n",
        "  # merge it with the rest of the detail_df\n",
        "  detail_df = detail_df.merge(t_dd, how='outer')\n",
        "  # print(\"hi\", t_dd, detail_df)\n",
        "  i= i+1\n"
      ],
      "execution_count": 13,
      "outputs": []
    },
    {
      "cell_type": "code",
      "metadata": {
        "colab": {
          "base_uri": "https://localhost:8080/",
          "height": 1000
        },
        "id": "4ElcANBKO4O0",
        "outputId": "db0581d1-0368-46bb-c6a7-7561233ccb44"
      },
      "source": [
        "detail_df"
      ],
      "execution_count": 14,
      "outputs": [
        {
          "output_type": "execute_result",
          "data": {
            "text/html": [
              "<div>\n",
              "<style scoped>\n",
              "    .dataframe tbody tr th:only-of-type {\n",
              "        vertical-align: middle;\n",
              "    }\n",
              "\n",
              "    .dataframe tbody tr th {\n",
              "        vertical-align: top;\n",
              "    }\n",
              "\n",
              "    .dataframe thead th {\n",
              "        text-align: right;\n",
              "    }\n",
              "</style>\n",
              "<table border=\"1\" class=\"dataframe\">\n",
              "  <thead>\n",
              "    <tr style=\"text-align: right;\">\n",
              "      <th></th>\n",
              "      <th>Cultivar Name:</th>\n",
              "      <th>Synonyms:</th>\n",
              "      <th>Patent:</th>\n",
              "      <th>Description:</th>\n",
              "      <th>Registration Name:</th>\n",
              "      <th>Classification:</th>\n",
              "      <th>Climber:</th>\n",
              "      <th>Petal Color:</th>\n",
              "      <th>Hybridizer:</th>\n",
              "      <th>Flower Form:</th>\n",
              "      <th>Fragrance:</th>\n",
              "      <th>Foliage:</th>\n",
              "      <th>Prickle:</th>\n",
              "      <th>Awards:</th>\n",
              "      <th>References:</th>\n",
              "      <th>Parentage:</th>\n",
              "      <th>Ploidy:</th>\n",
              "    </tr>\n",
              "  </thead>\n",
              "  <tbody>\n",
              "    <tr>\n",
              "      <th>0</th>\n",
              "      <td>A Shropshire Lad ®</td>\n",
              "      <td>'L/58/88'</td>\n",
              "      <td>David Austin Roses Limited  PP10607</td>\n",
              "      <td>Introduction Year: 1996; sub-type: English Lea...</td>\n",
              "      <td>Ausled</td>\n",
              "      <td>S - Shrub</td>\n",
              "      <td>No</td>\n",
              "      <td>light pink</td>\n",
              "      <td>Austin, David</td>\n",
              "      <td>flowers strikingly beautiful soft peachy pink,...</td>\n",
              "      <td>moderate</td>\n",
              "      <td>medium size, medium green, semi-glossy</td>\n",
              "      <td>thornless or almost thornless</td>\n",
              "      <td>RHS Award of Garden Merit (2012)</td>\n",
              "      <td>Modern Roses 12  www.davidaustinroses.com  www...</td>\n",
              "      <td>Heritage x unnamed seedling</td>\n",
              "      <td>NaN</td>\n",
              "    </tr>\n",
              "    <tr>\n",
              "      <th>1</th>\n",
              "      <td>Abbaye De Cluny ™</td>\n",
              "      <td>'Romantic Seranade'</td>\n",
              "      <td>The Conard-Pyle Company  PP09609</td>\n",
              "      <td>NaN</td>\n",
              "      <td>Meibrinpay</td>\n",
              "      <td>HT &amp; Cl HT - Hybrid Tea &amp; Climbing Hybrid Tea</td>\n",
              "      <td>No</td>\n",
              "      <td>apricot &amp; apricot blend</td>\n",
              "      <td>Meilland International SA</td>\n",
              "      <td>orange apricot, 4¼ in., full, borne mostly singly</td>\n",
              "      <td>slight</td>\n",
              "      <td>medium size, dark green, semi-glossy</td>\n",
              "      <td>moderate</td>\n",
              "      <td>Gold Medal, Belfast, 1995</td>\n",
              "      <td>Modern Roses 12</td>\n",
              "      <td>Just Joey × (MEIrestif × MEInarual)</td>\n",
              "      <td>NaN</td>\n",
              "    </tr>\n",
              "    <tr>\n",
              "      <th>2</th>\n",
              "      <td>About Face ™</td>\n",
              "      <td>'Pride of Cheshire'</td>\n",
              "      <td>Weeks Wholesale Rose Grower, Inc.  PP17305</td>\n",
              "      <td>NaN</td>\n",
              "      <td>Wekosupalz</td>\n",
              "      <td>Gr &amp; Cl Gr - Grandiflora &amp; Climbing Grandiflora</td>\n",
              "      <td>No</td>\n",
              "      <td>orange &amp; orange blend</td>\n",
              "      <td>Carruth, Tom</td>\n",
              "      <td>deep orange gold, reverse burnished red, 9-12 ...</td>\n",
              "      <td>none</td>\n",
              "      <td>large, dark green, semi-glossy</td>\n",
              "      <td>moderate, average, almost straight, brown</td>\n",
              "      <td>AARS, USA, 2005 Portland's Best Rose, Portland...</td>\n",
              "      <td>Modern Roses 12  www.helpmefind.com  United St...</td>\n",
              "      <td>[(O Sole Mio x seedling) x Midas Touch] x Hot ...</td>\n",
              "      <td>NaN</td>\n",
              "    </tr>\n",
              "    <tr>\n",
              "      <th>3</th>\n",
              "      <td>Above All ™</td>\n",
              "      <td>NaN</td>\n",
              "      <td>NaN</td>\n",
              "      <td>Intro Year: 2015; fine gardening, 2015 article...</td>\n",
              "      <td>Chewesic</td>\n",
              "      <td>LCl - Large-Flowered Climber</td>\n",
              "      <td>Yes</td>\n",
              "      <td>orange &amp; orange blend</td>\n",
              "      <td>Warner, Chris</td>\n",
              "      <td>bud form, pointed and ovoid; flowers dark/salm...</td>\n",
              "      <td>moderate fruity</td>\n",
              "      <td>medium-size, medium green, semi-glossy</td>\n",
              "      <td>almost straight, moderate, light brown</td>\n",
              "      <td>NaN</td>\n",
              "      <td>Modern Roses 12  www.helpmefind.com  United St...</td>\n",
              "      <td>Westerland × Sweet Magic</td>\n",
              "      <td>NaN</td>\n",
              "    </tr>\n",
              "    <tr>\n",
              "      <th>4</th>\n",
              "      <td>Above and Beyond ™</td>\n",
              "      <td>'First Editions® Above and Beyond™ Rose'</td>\n",
              "      <td>PP24463</td>\n",
              "      <td>First Editions® collection. Registered in 2014...</td>\n",
              "      <td>Zleeltonstrack</td>\n",
              "      <td>LCl - Large-Flowered Climber</td>\n",
              "      <td>Yes</td>\n",
              "      <td>apricot &amp; apricot blend</td>\n",
              "      <td>Zlesak, David</td>\n",
              "      <td>buds medium, pointed, ovoid; flowers light apr...</td>\n",
              "      <td>moderate spice</td>\n",
              "      <td>light - medium green, semi-glossy; fall foliag...</td>\n",
              "      <td>straight to slightly hooked, moderate</td>\n",
              "      <td>Earth-Kind Rose</td>\n",
              "      <td>Modern Roses 12  www.helpmefind.com  United St...</td>\n",
              "      <td>(Lemon Fluff (Curlem)) × (Rosa virginiana x Ro...</td>\n",
              "      <td>tetraploid</td>\n",
              "    </tr>\n",
              "    <tr>\n",
              "      <th>...</th>\n",
              "      <td>...</td>\n",
              "      <td>...</td>\n",
              "      <td>...</td>\n",
              "      <td>...</td>\n",
              "      <td>...</td>\n",
              "      <td>...</td>\n",
              "      <td>...</td>\n",
              "      <td>...</td>\n",
              "      <td>...</td>\n",
              "      <td>...</td>\n",
              "      <td>...</td>\n",
              "      <td>...</td>\n",
              "      <td>...</td>\n",
              "      <td>...</td>\n",
              "      <td>...</td>\n",
              "      <td>...</td>\n",
              "      <td>...</td>\n",
              "    </tr>\n",
              "    <tr>\n",
              "      <th>815</th>\n",
              "      <td>Young Lycidas</td>\n",
              "      <td>NaN</td>\n",
              "      <td>David Austin Roses Ltd.  PP20960</td>\n",
              "      <td>English Old Rose Hybrid introduced in 2008. Ac...</td>\n",
              "      <td>Ausvibrant</td>\n",
              "      <td>S - Shrub</td>\n",
              "      <td>No</td>\n",
              "      <td>deep pink</td>\n",
              "      <td>David Austin Roses, Ltd.</td>\n",
              "      <td>buds, medium; flowers deep pink with lavender ...</td>\n",
              "      <td>intense delicious tea and old rose with hints ...</td>\n",
              "      <td>medium-size, medium green, semi-glossy</td>\n",
              "      <td>deeply concave, few, red-brown</td>\n",
              "      <td>Perfume Prize, Barcelona Rose Trials, Spain, 2...</td>\n",
              "      <td>Modern Roses 12  www.davidaustinroses.com  www...</td>\n",
              "      <td>Unnamed, unpatented seedling (pink English-typ...</td>\n",
              "      <td>NaN</td>\n",
              "    </tr>\n",
              "    <tr>\n",
              "      <th>816</th>\n",
              "      <td>You're the One ™</td>\n",
              "      <td>NaN</td>\n",
              "      <td>NaN</td>\n",
              "      <td>Introduced in 2012</td>\n",
              "      <td>Wektaclagoma</td>\n",
              "      <td>Min &amp; Cl Min - Miniature &amp; Climbing Miniature</td>\n",
              "      <td>No</td>\n",
              "      <td>pink blend</td>\n",
              "      <td>Carruth, Tom</td>\n",
              "      <td>flowers white edged pink blushing darker, reve...</td>\n",
              "      <td>slight</td>\n",
              "      <td>medium-siz, dark green, glossy</td>\n",
              "      <td>almost straight, moderate, beige</td>\n",
              "      <td>Award of Excellence, American Rose Society, US...</td>\n",
              "      <td>Modern Roses 12  www.helpmefind.com  www.weeks...</td>\n",
              "      <td>Santa Claus × Goldmarie</td>\n",
              "      <td>NaN</td>\n",
              "    </tr>\n",
              "    <tr>\n",
              "      <th>817</th>\n",
              "      <td>Yuletide</td>\n",
              "      <td>NaN</td>\n",
              "      <td>Joseph H. Hill Company  PP01391</td>\n",
              "      <td>NaN</td>\n",
              "      <td>Yuletide</td>\n",
              "      <td>HT &amp; Cl HT - Hybrid Tea &amp; Climbing Hybrid Tea</td>\n",
              "      <td>No</td>\n",
              "      <td>medium red</td>\n",
              "      <td>Joseph H. Hill, Co.</td>\n",
              "      <td>bud ovoid; flowers currant-red, 3½-4½ in., 43 ...</td>\n",
              "      <td>slight</td>\n",
              "      <td>leathery, semi-glossy</td>\n",
              "      <td>NaN</td>\n",
              "      <td>NaN</td>\n",
              "      <td>Modern Roses 12</td>\n",
              "      <td>Hill Crest × Silver Kenny</td>\n",
              "      <td>NaN</td>\n",
              "    </tr>\n",
              "    <tr>\n",
              "      <th>818</th>\n",
              "      <td>Yves Piaget ®</td>\n",
              "      <td>'Queen Adelaide', 'The Royal Brompton Rose'</td>\n",
              "      <td>The Conard-Pyle Company  PP06895</td>\n",
              "      <td>NaN</td>\n",
              "      <td>Meivildo</td>\n",
              "      <td>HT &amp; Cl HT - Hybrid Tea &amp; Climbing Hybrid Tea</td>\n",
              "      <td>No</td>\n",
              "      <td>medium pink</td>\n",
              "      <td>Meilland, Mrs. Marie-Louise</td>\n",
              "      <td>bud globular, fairly large; flowers Neyron pin...</td>\n",
              "      <td>intense</td>\n",
              "      <td>medium size, dark green, semi-glossy</td>\n",
              "      <td>NaN</td>\n",
              "      <td>Golden Rose &amp; Fragrance Award, Geneve, 1982 Go...</td>\n",
              "      <td>Modern Roses 12</td>\n",
              "      <td>((Pharaoh × Peace) × (Chrysler Imperial × Char...</td>\n",
              "      <td>NaN</td>\n",
              "    </tr>\n",
              "    <tr>\n",
              "      <th>819</th>\n",
              "      <td>Zéphirine Drouhin</td>\n",
              "      <td>'Belle Dijonnaise', 'Ingegnoli Prediletta', 'M...</td>\n",
              "      <td>NaN</td>\n",
              "      <td>From The Antique Rose Emporium, \" A perfect ro...</td>\n",
              "      <td>Zéphirine Drouhin</td>\n",
              "      <td>B &amp; Cl B - Bourbon &amp; Climbing Bourbon</td>\n",
              "      <td>Yes</td>\n",
              "      <td>medium pink</td>\n",
              "      <td>Bizot</td>\n",
              "      <td>bud long, pointed; flowers cerise pink, base w...</td>\n",
              "      <td>strong damask</td>\n",
              "      <td>soft, light</td>\n",
              "      <td>none</td>\n",
              "      <td>NaN</td>\n",
              "      <td>Modern Roses 12  www.helpmefind.com  The Antiq...</td>\n",
              "      <td>NaN</td>\n",
              "      <td>triploid</td>\n",
              "    </tr>\n",
              "  </tbody>\n",
              "</table>\n",
              "<p>820 rows × 17 columns</p>\n",
              "</div>"
            ],
            "text/plain": [
              "         Cultivar Name:  ...     Ploidy:\n",
              "0    A Shropshire Lad ®  ...         NaN\n",
              "1     Abbaye De Cluny ™  ...         NaN\n",
              "2          About Face ™  ...         NaN\n",
              "3           Above All ™  ...         NaN\n",
              "4    Above and Beyond ™  ...  tetraploid\n",
              "..                  ...  ...         ...\n",
              "815       Young Lycidas  ...         NaN\n",
              "816    You're the One ™  ...         NaN\n",
              "817            Yuletide  ...         NaN\n",
              "818       Yves Piaget ®  ...         NaN\n",
              "819   Zéphirine Drouhin  ...    triploid\n",
              "\n",
              "[820 rows x 17 columns]"
            ]
          },
          "metadata": {
            "tags": []
          },
          "execution_count": 14
        }
      ]
    },
    {
      "cell_type": "markdown",
      "metadata": {
        "id": "4qt14ZkZTq9I"
      },
      "source": [
        "### Write to file"
      ]
    },
    {
      "cell_type": "code",
      "metadata": {
        "id": "Lf6M66jLcUMn"
      },
      "source": [
        "def make_filename(prefix):\n",
        "  dateTimeObj = pd.to_datetime('today')\n",
        "  dateStr = dateTimeObj.strftime(\"%m_%d_%Y\")\n",
        "  fname = (prefix + dateStr + \".csv\")\n",
        "  return (fname)"
      ],
      "execution_count": 15,
      "outputs": []
    },
    {
      "cell_type": "code",
      "metadata": {
        "colab": {
          "base_uri": "https://localhost:8080/"
        },
        "id": "MnIy6SpTr-x-",
        "outputId": "7f56d09b-0c73-4be8-d86d-ace731272fbc"
      },
      "source": [
        "%cd drive/My Drive/Colab Notebooks/Sandbox/Roses/UCDavis\n",
        "%ls"
      ],
      "execution_count": 17,
      "outputs": [
        {
          "output_type": "stream",
          "text": [
            "/content/drive/My Drive/Colab Notebooks/Sandbox/Roses/UCDavis\n"
          ],
          "name": "stdout"
        }
      ]
    },
    {
      "cell_type": "code",
      "metadata": {
        "colab": {
          "base_uri": "https://localhost:8080/"
        },
        "id": "TliD0VWWZ5Wj",
        "outputId": "9d0b6e36-0c12-4702-9de3-1ace84d08403"
      },
      "source": [
        "fileprefix = \"UCDavisRoses\"\n",
        "fn = make_filename(fileprefix)\n",
        "detail_df.to_csv(fn)\n",
        "!cp {fn} .\n",
        "%ls"
      ],
      "execution_count": 18,
      "outputs": [
        {
          "output_type": "stream",
          "text": [
            "cp: 'UCDavisRoses07_05_2021.csv' and './UCDavisRoses07_05_2021.csv' are the same file\n",
            "UCDavisRoses07_05_2021.csv\n"
          ],
          "name": "stdout"
        }
      ]
    },
    {
      "cell_type": "markdown",
      "metadata": {
        "id": "kriAReQzTmg1"
      },
      "source": [
        "# Get rose list from helpmefind"
      ]
    },
    {
      "cell_type": "markdown",
      "metadata": {
        "id": "N-8qjWnjbMQc"
      },
      "source": [
        "## HMF Page Structures **Alpha lists**\n",
        "### hmf alpha URL structure:\n",
        "Main rose search by name page: \n",
        "`https://www.helpmefind.com/rose/plants.php`\n",
        "\n",
        "Alpha List main page, no letter selected:\n",
        "`[Main rose search]?tab=2`\n",
        "\n",
        "Alpha List, with letter selected: <letter> is A to Z <page number> is 0,1-9, a-f, 10-19, 1a-1f, 20-29, 2a-2f, 30-39. 0 is the first page of the letter\n",
        "`[Main rose search]?grp=<*letter*>&t=2&qn=<*page number*>&qc=0`\n",
        "\n",
        "\n",
        "Alpha List, with letter selected, after first page: <page number> is 1-9, a-f, 10-19, 1a-1f, 20-29, 2a-2f, 30-39\n",
        "`[Alpha List, first letter page]&qn=<*page number*>`"
      ]
    },
    {
      "cell_type": "markdown",
      "metadata": {
        "id": "q9nljY1Z_E7U"
      },
      "source": [
        "test the hmf alphabetical list page for A"
      ]
    },
    {
      "cell_type": "code",
      "metadata": {
        "colab": {
          "base_uri": "https://localhost:8080/"
        },
        "id": "WDdmVP2R-hgd",
        "outputId": "456fda7c-bbd0-46a0-9d3e-c2f505155bc6"
      },
      "source": [
        "hmf = \"https://www.helpmefind.com/rose/plants.php?grp=A&t=2\"\n",
        "hmftest =\"https://www.helpmefind.com/rose/plants.php?grp=A&t=2&qn=9f&qc=0\"\n",
        "requests.get(hmftest)"
      ],
      "execution_count": 7,
      "outputs": [
        {
          "output_type": "execute_result",
          "data": {
            "text/plain": [
              "<Response [200]>"
            ]
          },
          "metadata": {
            "tags": []
          },
          "execution_count": 7
        }
      ]
    },
    {
      "cell_type": "code",
      "metadata": {
        "id": "W1exB3qS-gxC"
      },
      "source": [
        "r=requests.get(hmf)\n",
        "df_list= pd.read_html(r.text)"
      ],
      "execution_count": null,
      "outputs": []
    },
    {
      "cell_type": "code",
      "metadata": {
        "id": "MKBCOgNC-xiI"
      },
      "source": [
        "df = pd.DataFrame(data=df_list[1],copy=True)\n",
        "df.shape"
      ],
      "execution_count": null,
      "outputs": []
    },
    {
      "cell_type": "code",
      "metadata": {
        "id": "ACluJECK-yLx"
      },
      "source": [
        ""
      ],
      "execution_count": null,
      "outputs": []
    }
  ]
}