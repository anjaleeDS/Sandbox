{
  "nbformat": 4,
  "nbformat_minor": 0,
  "metadata": {
    "colab": {
      "name": "ER_supply_predictor.ipynb",
      "provenance": [],
      "authorship_tag": "ABX9TyNwY8m58DfTg9AJZlijghsV",
      "include_colab_link": true
    },
    "kernelspec": {
      "name": "python3",
      "display_name": "Python 3"
    }
  },
  "cells": [
    {
      "cell_type": "markdown",
      "metadata": {
        "id": "view-in-github",
        "colab_type": "text"
      },
      "source": [
        "<a href=\"https://colab.research.google.com/github/anjaleeDS/Sandbox/blob/master/ER_supply_predictor.ipynb\" target=\"_parent\"><img src=\"https://colab.research.google.com/assets/colab-badge.svg\" alt=\"Open In Colab\"/></a>"
      ]
    },
    {
      "cell_type": "code",
      "metadata": {
        "id": "78sDwk0E9Zic",
        "colab_type": "code",
        "colab": {
          "base_uri": "https://localhost:8080/",
          "height": 51
        },
        "outputId": "289cb6ca-b9a2-4815-e3c6-bf8bc14d69b8"
      },
      "source": [
        "import pandas as pd\n",
        "import re\n",
        "from sklearn.feature_extraction.text import TfidfVectorizer\n",
        "from sklearn.metrics.pairwise import cosine_similarity\n",
        "from gspread_dataframe import get_as_dataframe\n",
        "import statistics as stats\n",
        "import seaborn as sns\n"
      ],
      "execution_count": null,
      "outputs": [
        {
          "output_type": "stream",
          "text": [
            "/usr/local/lib/python3.6/dist-packages/statsmodels/tools/_testing.py:19: FutureWarning: pandas.util.testing is deprecated. Use the functions in the public API at pandas.testing instead.\n",
            "  import pandas.util.testing as tm\n"
          ],
          "name": "stderr"
        }
      ]
    },
    {
      "cell_type": "code",
      "metadata": {
        "id": "JxoRFBsU-fLx",
        "colab_type": "code",
        "colab": {}
      },
      "source": [
        "inj8_df = pd.read_excel('https://query.data.world/s/3mh75hauh3rb6re2ygn2swx43ucohp') #hospital-emergency-department-external-cause-of-injury-morbidity-code-frequency\n",
        "dia8_df = pd.read_excel('https://query.data.world/s/rpezfjg42ovj5wjipulfgj2bpw2nco') #hospital-emergency-department-diagnosis-code-frequency"
      ],
      "execution_count": null,
      "outputs": []
    },
    {
      "cell_type": "code",
      "metadata": {
        "id": "wqRhzF-jIMnY",
        "colab_type": "code",
        "colab": {
          "base_uri": "https://localhost:8080/",
          "height": 193
        },
        "outputId": "1d943893-b9d1-4bb4-d72b-258d2f6d30bd"
      },
      "source": [
        "inj8_df.tail()\n"
      ],
      "execution_count": null,
      "outputs": [
        {
          "output_type": "execute_result",
          "data": {
            "text/html": [
              "<div>\n",
              "<style scoped>\n",
              "    .dataframe tbody tr th:only-of-type {\n",
              "        vertical-align: middle;\n",
              "    }\n",
              "\n",
              "    .dataframe tbody tr th {\n",
              "        vertical-align: top;\n",
              "    }\n",
              "\n",
              "    .dataframe thead th {\n",
              "        text-align: right;\n",
              "    }\n",
              "</style>\n",
              "<table border=\"1\" class=\"dataframe\">\n",
              "  <thead>\n",
              "    <tr style=\"text-align: right;\">\n",
              "      <th></th>\n",
              "      <th>ExtCauseCode</th>\n",
              "      <th>ExtCauseDesc</th>\n",
              "      <th>TotalExtCauseCodes</th>\n",
              "      <th>PrimaryExtCauseCodes</th>\n",
              "      <th>SecondExtCauseCodes</th>\n",
              "    </tr>\n",
              "  </thead>\n",
              "  <tbody>\n",
              "    <tr>\n",
              "      <th>2737</th>\n",
              "      <td>Y99.0</td>\n",
              "      <td>Civilian activity done for income or pay</td>\n",
              "      <td>87689</td>\n",
              "      <td>2335.0</td>\n",
              "      <td>85354.0</td>\n",
              "    </tr>\n",
              "    <tr>\n",
              "      <th>2738</th>\n",
              "      <td>Y99.1</td>\n",
              "      <td>Military activity</td>\n",
              "      <td>312</td>\n",
              "      <td>12.0</td>\n",
              "      <td>300.0</td>\n",
              "    </tr>\n",
              "    <tr>\n",
              "      <th>2739</th>\n",
              "      <td>Y99.2</td>\n",
              "      <td>Volunteer activity</td>\n",
              "      <td>339</td>\n",
              "      <td>3.0</td>\n",
              "      <td>336.0</td>\n",
              "    </tr>\n",
              "    <tr>\n",
              "      <th>2740</th>\n",
              "      <td>Y99.8</td>\n",
              "      <td>Other external cause status</td>\n",
              "      <td>264840</td>\n",
              "      <td>1509.0</td>\n",
              "      <td>263331.0</td>\n",
              "    </tr>\n",
              "    <tr>\n",
              "      <th>2741</th>\n",
              "      <td>Y99.9</td>\n",
              "      <td>Unspecified external cause status</td>\n",
              "      <td>49743</td>\n",
              "      <td>1079.0</td>\n",
              "      <td>48664.0</td>\n",
              "    </tr>\n",
              "  </tbody>\n",
              "</table>\n",
              "</div>"
            ],
            "text/plain": [
              "     ExtCauseCode  ... SecondExtCauseCodes\n",
              "2737        Y99.0  ...             85354.0\n",
              "2738        Y99.1  ...               300.0\n",
              "2739        Y99.2  ...               336.0\n",
              "2740        Y99.8  ...            263331.0\n",
              "2741        Y99.9  ...             48664.0\n",
              "\n",
              "[5 rows x 5 columns]"
            ]
          },
          "metadata": {
            "tags": []
          },
          "execution_count": 20
        }
      ]
    },
    {
      "cell_type": "code",
      "metadata": {
        "id": "GNXNwesaMQxJ",
        "colab_type": "code",
        "colab": {
          "base_uri": "https://localhost:8080/",
          "height": 223
        },
        "outputId": "d6723341-9fa5-4335-a3ca-bf3706c66527"
      },
      "source": [
        "inj8_df.ExtCauseCode.value_counts()"
      ],
      "execution_count": null,
      "outputs": [
        {
          "output_type": "execute_result",
          "data": {
            "text/plain": [
              "X36.0XXA    1\n",
              "W17.3XXA    1\n",
              "Y93.68      1\n",
              "W16.112A    1\n",
              "W27.0XXA    1\n",
              "           ..\n",
              "V49.60XD    1\n",
              "V01.02XA    1\n",
              "X06.3XXA    1\n",
              "V03.00XS    1\n",
              "V00.142D    1\n",
              "Name: ExtCauseCode, Length: 2742, dtype: int64"
            ]
          },
          "metadata": {
            "tags": []
          },
          "execution_count": 17
        }
      ]
    },
    {
      "cell_type": "code",
      "metadata": {
        "id": "zE0QozdKOFTT",
        "colab_type": "code",
        "colab": {
          "base_uri": "https://localhost:8080/",
          "height": 193
        },
        "outputId": "b78b0319-cf6a-47ff-e246-4b2409b980b3"
      },
      "source": [
        "dia8_df.tail()\n"
      ],
      "execution_count": null,
      "outputs": [
        {
          "output_type": "execute_result",
          "data": {
            "text/html": [
              "<div>\n",
              "<style scoped>\n",
              "    .dataframe tbody tr th:only-of-type {\n",
              "        vertical-align: middle;\n",
              "    }\n",
              "\n",
              "    .dataframe tbody tr th {\n",
              "        vertical-align: top;\n",
              "    }\n",
              "\n",
              "    .dataframe thead th {\n",
              "        text-align: right;\n",
              "    }\n",
              "</style>\n",
              "<table border=\"1\" class=\"dataframe\">\n",
              "  <thead>\n",
              "    <tr style=\"text-align: right;\">\n",
              "      <th></th>\n",
              "      <th>ICD10CMCode</th>\n",
              "      <th>DiagnosisDesc</th>\n",
              "      <th>TotalDiag</th>\n",
              "      <th>PrimaryDiag</th>\n",
              "      <th>SecondDiag</th>\n",
              "    </tr>\n",
              "  </thead>\n",
              "  <tbody>\n",
              "    <tr>\n",
              "      <th>31374</th>\n",
              "      <td>Z99.12</td>\n",
              "      <td>ENCOUNTER FOR RESPIRATOR DEPENDENCE DURING POW...</td>\n",
              "      <td>2</td>\n",
              "      <td>2.0</td>\n",
              "      <td>NaN</td>\n",
              "    </tr>\n",
              "    <tr>\n",
              "      <th>31375</th>\n",
              "      <td>Z99.2</td>\n",
              "      <td>DEPENDENCE ON RENAL DIALYSIS</td>\n",
              "      <td>94212</td>\n",
              "      <td>63.0</td>\n",
              "      <td>94149.0</td>\n",
              "    </tr>\n",
              "    <tr>\n",
              "      <th>31376</th>\n",
              "      <td>Z99.3</td>\n",
              "      <td>DEPENDENCE ON WHEELCHAIR</td>\n",
              "      <td>11279</td>\n",
              "      <td>10.0</td>\n",
              "      <td>11269.0</td>\n",
              "    </tr>\n",
              "    <tr>\n",
              "      <th>31377</th>\n",
              "      <td>Z99.81</td>\n",
              "      <td>DEPENDENCE ON SUPPLEMENTAL OXYGEN</td>\n",
              "      <td>27641</td>\n",
              "      <td>31.0</td>\n",
              "      <td>27610.0</td>\n",
              "    </tr>\n",
              "    <tr>\n",
              "      <th>31378</th>\n",
              "      <td>Z99.89</td>\n",
              "      <td>DEPENDENCE ON OTHER ENABLING MACHINES AND DEVICES</td>\n",
              "      <td>4793</td>\n",
              "      <td>5.0</td>\n",
              "      <td>4788.0</td>\n",
              "    </tr>\n",
              "  </tbody>\n",
              "</table>\n",
              "</div>"
            ],
            "text/plain": [
              "      ICD10CMCode  ... SecondDiag\n",
              "31374      Z99.12  ...        NaN\n",
              "31375       Z99.2  ...    94149.0\n",
              "31376       Z99.3  ...    11269.0\n",
              "31377      Z99.81  ...    27610.0\n",
              "31378      Z99.89  ...     4788.0\n",
              "\n",
              "[5 rows x 5 columns]"
            ]
          },
          "metadata": {
            "tags": []
          },
          "execution_count": 19
        }
      ]
    },
    {
      "cell_type": "code",
      "metadata": {
        "id": "MIoN6n9Uk0Z-",
        "colab_type": "code",
        "colab": {
          "base_uri": "https://localhost:8080/",
          "height": 583
        },
        "outputId": "32ffbfce-d6b7-413c-a6dd-826c21f7cf9d"
      },
      "source": [
        "sns.pairplot(data=inj8_df)"
      ],
      "execution_count": null,
      "outputs": [
        {
          "output_type": "execute_result",
          "data": {
            "text/plain": [
              "<seaborn.axisgrid.PairGrid at 0x7f69ebf089e8>"
            ]
          },
          "metadata": {
            "tags": []
          },
          "execution_count": 21
        },
        {
          "output_type": "display_data",
          "data": {
            "image/png": "[encoded data removed]",
            "text/plain": [
              "<Figure size 540x540 with 12 Axes>"
            ]
          },
          "metadata": {
            "tags": [],
            "needs_background": "light"
          }
        }
      ]
    }
  ]
}