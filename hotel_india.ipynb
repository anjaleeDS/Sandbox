{
  "nbformat": 4,
  "nbformat_minor": 0,
  "metadata": {
    "colab": {
      "name": "hotel_india.ipynb",
      "provenance": [],
      "authorship_tag": "ABX9TyPKEcFLMrLmUlf1gV95F97t",
      "include_colab_link": true
    },
    "kernelspec": {
      "name": "python3",
      "display_name": "Python 3"
    }
  },
  "cells": [
    {
      "cell_type": "markdown",
      "metadata": {
        "id": "view-in-github",
        "colab_type": "text"
      },
      "source": [
        "<a href=\"https://colab.research.google.com/github/anjaleeDS/Sandbox/blob/master/hotel_india.ipynb\" target=\"_parent\"><img src=\"https://colab.research.google.com/assets/colab-badge.svg\" alt=\"Open In Colab\"/></a>"
      ]
    },
    {
      "cell_type": "code",
      "metadata": {
        "id": "l5Gm9QrLLPCC",
        "colab_type": "code",
        "colab": {}
      },
      "source": [
        "# libs\n",
        "\n",
        "import pandas as pd\n",
        "import re\n",
        "from sklearn.feature_extraction.text import TfidfVectorizer\n",
        "from sklearn.metrics.pairwise import cosine_similarity\n",
        "from gspread_dataframe import get_as_dataframe"
      ],
      "execution_count": 1,
      "outputs": []
    },
    {
      "cell_type": "code",
      "metadata": {
        "id": "wnHZo83PMCtD",
        "colab_type": "code",
        "colab": {}
      },
      "source": [
        "#goog libs\n",
        "\n",
        "# !pip install --upgrade gspread\n",
        "from google.colab import auth\n",
        "auth.authenticate_user()\n",
        "\n",
        "import gspread\n",
        "from oauth2client.client import GoogleCredentials\n",
        "\n",
        "gc = gspread.authorize(GoogleCredentials.get_application_default())\n",
        "\n",
        "worksheet = gc.open('recommender_india').sheet1\n",
        "\n",
        "# get_all_values gives a list of rows.\n",
        "rows = worksheet.get_all_values()\n",
        "\n",
        "# Convert to a DataFrame and render.\n",
        "ihotel = get_as_dataframe(worksheet=worksheet, header=0)"
      ],
      "execution_count": 2,
      "outputs": []
    },
    {
      "cell_type": "code",
      "metadata": {
        "id": "V2dBPHaUjhni",
        "colab_type": "code",
        "colab": {
          "base_uri": "https://localhost:8080/",
          "height": 594
        },
        "outputId": "fc5bfa9c-f999-426a-dd2d-515daba082b2"
      },
      "source": [
        "ihotel.fillna('0')\n",
        "ihotel.head(6)"
      ],
      "execution_count": 78,
      "outputs": [
        {
          "output_type": "execute_result",
          "data": {
            "text/html": [
              "<div>\n",
              "<style scoped>\n",
              "    .dataframe tbody tr th:only-of-type {\n",
              "        vertical-align: middle;\n",
              "    }\n",
              "\n",
              "    .dataframe tbody tr th {\n",
              "        vertical-align: top;\n",
              "    }\n",
              "\n",
              "    .dataframe thead th {\n",
              "        text-align: right;\n",
              "    }\n",
              "</style>\n",
              "<table border=\"1\" class=\"dataframe\">\n",
              "  <thead>\n",
              "    <tr style=\"text-align: right;\">\n",
              "      <th></th>\n",
              "      <th>address</th>\n",
              "      <th>city</th>\n",
              "      <th>country</th>\n",
              "      <th>crawl_date</th>\n",
              "      <th>hotel_brand</th>\n",
              "      <th>hotel_description</th>\n",
              "      <th>hotel_facilities</th>\n",
              "      <th>hotel_star_rating</th>\n",
              "      <th>image_count</th>\n",
              "      <th>latitude</th>\n",
              "      <th>locality</th>\n",
              "      <th>longitude</th>\n",
              "      <th>pageurl</th>\n",
              "      <th>property_id</th>\n",
              "      <th>property_name</th>\n",
              "      <th>property_type</th>\n",
              "      <th>province</th>\n",
              "      <th>qts</th>\n",
              "      <th>room_count</th>\n",
              "      <th>room_type</th>\n",
              "      <th>similar_hotel</th>\n",
              "      <th>site_review_count</th>\n",
              "      <th>site_review_rating</th>\n",
              "      <th>site_stay_review_rating</th>\n",
              "      <th>sitename</th>\n",
              "      <th>special_tag</th>\n",
              "      <th>state</th>\n",
              "      <th>uniq_id</th>\n",
              "      <th>zone</th>\n",
              "      <th>clean_desc</th>\n",
              "    </tr>\n",
              "  </thead>\n",
              "  <tbody>\n",
              "    <tr>\n",
              "      <th>0</th>\n",
              "      <td>KHIRSU, 246147 Pauri, India â€“ Great location -</td>\n",
              "      <td>pauri</td>\n",
              "      <td>India</td>\n",
              "      <td>9/1/2016</td>\n",
              "      <td>NaN</td>\n",
              "      <td>Khirsu By GMVN offers accommodation in Pauri. ...</td>\n",
              "      <td>Bathroom:Toilet paper|Linen|Towels|Bathroom|To...</td>\n",
              "      <td>NaN</td>\n",
              "      <td>3</td>\n",
              "      <td>30.123749</td>\n",
              "      <td>NaN</td>\n",
              "      <td>78.7938</td>\n",
              "      <td>http://www.booking.com/hotel/in/khirsu-by-gmvn...</td>\n",
              "      <td>1742658</td>\n",
              "      <td>Khirsu By GMVN</td>\n",
              "      <td>204</td>\n",
              "      <td>NaN</td>\n",
              "      <td>2016-09-01 11:52:38 +0000</td>\n",
              "      <td>18</td>\n",
              "      <td>Economy Double Room</td>\n",
              "      <td>Hotel Mandakini</td>\n",
              "      <td>NaN</td>\n",
              "      <td>NaN</td>\n",
              "      <td>NaN</td>\n",
              "      <td>http://www.booking.com/</td>\n",
              "      <td>Share</td>\n",
              "      <td>Uttarakhand</td>\n",
              "      <td>a5ea72415f8007fcbe65759830fdd3d9</td>\n",
              "      <td>NaN</td>\n",
              "      <td>Khirsu By GMVN offers accommodation in Pauri. ...</td>\n",
              "    </tr>\n",
              "    <tr>\n",
              "      <th>1</th>\n",
              "      <td>Kaathadimattam, Balacola Post, NEAR Siva Tea F...</td>\n",
              "      <td>ooty</td>\n",
              "      <td>India</td>\n",
              "      <td>9/1/2016</td>\n",
              "      <td>NaN</td>\n",
              "      <td>Situated in Ooty in the Tamil Nadu Region, 8 k...</td>\n",
              "      <td>Bathroom:Toilet paper|Linen|Towels|Bidet|Towel...</td>\n",
              "      <td>3 stars</td>\n",
              "      <td>NaN</td>\n",
              "      <td>11.329595</td>\n",
              "      <td>NaN</td>\n",
              "      <td>76.6867</td>\n",
              "      <td>http://www.booking.com/hotel/in/global-village...</td>\n",
              "      <td>1755986</td>\n",
              "      <td>Global Village Ooty</td>\n",
              "      <td>212</td>\n",
              "      <td>NaN</td>\n",
              "      <td>2016-09-01 11:52:38 +0000</td>\n",
              "      <td>10</td>\n",
              "      <td>British Empire Chalet</td>\n",
              "      <td>Treebo Yantra Leisures|Western Valley Resorts|...</td>\n",
              "      <td>5</td>\n",
              "      <td>7.6</td>\n",
              "      <td>Location:8.5|Staff:8|Cleanliness:7.5|Comfort:7...</td>\n",
              "      <td>http://www.booking.com/</td>\n",
              "      <td>Share</td>\n",
              "      <td>Tamil Nadu</td>\n",
              "      <td>7e0b055417271bbd9dae902f3e231ed4</td>\n",
              "      <td>NaN</td>\n",
              "      <td>Situated in Ooty in the Tamil Nadu Region, 8 k...</td>\n",
              "    </tr>\n",
              "    <tr>\n",
              "      <th>2</th>\n",
              "      <td>PIPALKOTI, 246472 PÄ«palkoti, India â€“ Show map</td>\n",
              "      <td>pÄ«palkoti</td>\n",
              "      <td>India</td>\n",
              "      <td>9/1/2016</td>\n",
              "      <td>NaN</td>\n",
              "      <td>TRH Pipalkoti offers accommodation in PÄ«palko...</td>\n",
              "      <td>Bathroom:Toilet paper|Linen|Towels|Bathroomâ€¢...</td>\n",
              "      <td>NaN</td>\n",
              "      <td>4</td>\n",
              "      <td>30.429540</td>\n",
              "      <td>NaN</td>\n",
              "      <td>79.4281</td>\n",
              "      <td>http://www.booking.com/hotel/in/trh-pipalkoti....</td>\n",
              "      <td>1741747</td>\n",
              "      <td>TRH Pipalkoti</td>\n",
              "      <td>204</td>\n",
              "      <td>NaN</td>\n",
              "      <td>2016-09-01 11:52:38 +0000</td>\n",
              "      <td>28</td>\n",
              "      <td>Economy Double Room</td>\n",
              "      <td>TRH Joshimath (New)</td>\n",
              "      <td>NaN</td>\n",
              "      <td>NaN</td>\n",
              "      <td>NaN</td>\n",
              "      <td>http://www.booking.com/</td>\n",
              "      <td>Share</td>\n",
              "      <td>Uttarakhand</td>\n",
              "      <td>72c0af09827bbb620365aa5df523ba1d</td>\n",
              "      <td>NaN</td>\n",
              "      <td>TRH Pipalkoti offers accommodation in Ppalkoti...</td>\n",
              "    </tr>\n",
              "    <tr>\n",
              "      <th>3</th>\n",
              "      <td>1 KARIYIL HOUSE KUMARAKOM NORTH PO KOTTAYAM, 6...</td>\n",
              "      <td>kumarakom</td>\n",
              "      <td>India</td>\n",
              "      <td>9/1/2016</td>\n",
              "      <td>NaN</td>\n",
              "      <td>Swasti house boat 2 is located in Kumarakom, 3...</td>\n",
              "      <td>Bathroom:Toilet paper|Towels|Bath|Showerâ€¢Bed...</td>\n",
              "      <td>NaN</td>\n",
              "      <td>2</td>\n",
              "      <td>9.616057</td>\n",
              "      <td>NaN</td>\n",
              "      <td>76.4283</td>\n",
              "      <td>http://www.booking.com/hotel/in/swasti-house-b...</td>\n",
              "      <td>1747392</td>\n",
              "      <td>Swasti house boat 2</td>\n",
              "      <td>204</td>\n",
              "      <td>NaN</td>\n",
              "      <td>2016-09-01 11:52:38 +0000</td>\n",
              "      <td>1</td>\n",
              "      <td>Deluxe Room</td>\n",
              "      <td>NaN</td>\n",
              "      <td>NaN</td>\n",
              "      <td>NaN</td>\n",
              "      <td>NaN</td>\n",
              "      <td>http://www.booking.com/</td>\n",
              "      <td>Share</td>\n",
              "      <td>Kerala</td>\n",
              "      <td>eb6fd33d99aa4a8088caa8f3ecb08275</td>\n",
              "      <td>NaN</td>\n",
              "      <td>Swasti house boat 2 is located in Kumarakom, 3...</td>\n",
              "    </tr>\n",
              "    <tr>\n",
              "      <th>4</th>\n",
              "      <td>Kavanattinkara, 686563 Kumarakom, India â€“ Sh...</td>\n",
              "      <td>kumarakom</td>\n",
              "      <td>India</td>\n",
              "      <td>9/1/2016</td>\n",
              "      <td>NaN</td>\n",
              "      <td>Amrutham Houseboat 2 is set in Kumarakom, 5 km...</td>\n",
              "      <td>Bathroom:Toilet paper|Linen|Towels|Towels/Shee...</td>\n",
              "      <td>NaN</td>\n",
              "      <td>NaN</td>\n",
              "      <td>9.632854</td>\n",
              "      <td>NaN</td>\n",
              "      <td>76.4236</td>\n",
              "      <td>http://www.booking.com/hotel/in/amrutham-house...</td>\n",
              "      <td>1744962</td>\n",
              "      <td>Amrutham Houseboat 2</td>\n",
              "      <td>215</td>\n",
              "      <td>NaN</td>\n",
              "      <td>2016-09-01 11:52:38 +0000</td>\n",
              "      <td>2</td>\n",
              "      <td>Mobile Home</td>\n",
              "      <td>Mandala Beach House &amp; Cottages</td>\n",
              "      <td>NaN</td>\n",
              "      <td>NaN</td>\n",
              "      <td>NaN</td>\n",
              "      <td>http://www.booking.com/</td>\n",
              "      <td>Share</td>\n",
              "      <td>Kerala</td>\n",
              "      <td>0814d9af7ad808863c04db8f30437c57</td>\n",
              "      <td>NaN</td>\n",
              "      <td>Amrutham Houseboat 2 is set in Kumarakom, 5 km...</td>\n",
              "    </tr>\n",
              "    <tr>\n",
              "      <th>5</th>\n",
              "      <td>15 A Arani House Ooty, 643002 Ooty, India â€“ ...</td>\n",
              "      <td>ooty</td>\n",
              "      <td>India</td>\n",
              "      <td>9/1/2016</td>\n",
              "      <td>NaN</td>\n",
              "      <td>Located 3.4 km from Ooty Lake and 800 m from H...</td>\n",
              "      <td>Miscellaneous:Non-smoking roomsâ€¢Bathroom:Toi...</td>\n",
              "      <td>NaN</td>\n",
              "      <td>12</td>\n",
              "      <td>11.413460</td>\n",
              "      <td>NaN</td>\n",
              "      <td>76.7186</td>\n",
              "      <td>http://www.booking.com/hotel/in/the-hill-side....</td>\n",
              "      <td>1756349</td>\n",
              "      <td>The Hill Side</td>\n",
              "      <td>201</td>\n",
              "      <td>NaN</td>\n",
              "      <td>2016-09-01 11:52:38 +0000</td>\n",
              "      <td>20</td>\n",
              "      <td>Standard Room in Apartment</td>\n",
              "      <td>Two Seas Residence</td>\n",
              "      <td>81</td>\n",
              "      <td>8.4</td>\n",
              "      <td>NaN</td>\n",
              "      <td>http://www.booking.com/</td>\n",
              "      <td>Share</td>\n",
              "      <td>Tamil Nadu</td>\n",
              "      <td>cd2caff07410c06831e50a5ed0807f6c</td>\n",
              "      <td>NaN</td>\n",
              "      <td>Located 3.4 km from Ooty Lake and 800 m from H...</td>\n",
              "    </tr>\n",
              "  </tbody>\n",
              "</table>\n",
              "</div>"
            ],
            "text/plain": [
              "                                             address  ...                                         clean_desc\n",
              "0   KHIRSU, 246147 Pauri, India â€“ Great location -  ...  Khirsu By GMVN offers accommodation in Pauri. ...\n",
              "1  Kaathadimattam, Balacola Post, NEAR Siva Tea F...  ...  Situated in Ooty in the Tamil Nadu Region, 8 k...\n",
              "2   PIPALKOTI, 246472 PÄ«palkoti, India â€“ Show map  ...  TRH Pipalkoti offers accommodation in Ppalkoti...\n",
              "3  1 KARIYIL HOUSE KUMARAKOM NORTH PO KOTTAYAM, 6...  ...  Swasti house boat 2 is located in Kumarakom, 3...\n",
              "4  Kavanattinkara, 686563 Kumarakom, India â€“ Sh...  ...  Amrutham Houseboat 2 is set in Kumarakom, 5 km...\n",
              "5  15 A Arani House Ooty, 643002 Ooty, India â€“ ...  ...  Located 3.4 km from Ooty Lake and 800 m from H...\n",
              "\n",
              "[6 rows x 30 columns]"
            ]
          },
          "metadata": {
            "tags": []
          },
          "execution_count": 78
        }
      ]
    },
    {
      "cell_type": "code",
      "metadata": {
        "id": "x2ZOCN6eGv5z",
        "colab_type": "code",
        "colab": {
          "base_uri": "https://localhost:8080/",
          "height": 235
        },
        "outputId": "2f5bdbde-7830-46dd-8c1a-b76504cbd717"
      },
      "source": [
        "ihotel['clean_desc'] = ihotel.hotel_description\n",
        "ihotel.clean_desc"
      ],
      "execution_count": 65,
      "outputs": [
        {
          "output_type": "execute_result",
          "data": {
            "text/plain": [
              "0       Khirsu By GMVN offers accommodation in Pauri. ...\n",
              "1       Situated in Ooty in the Tamil Nadu Region, 8 k...\n",
              "2       TRH Pipalkoti offers accommodation in PÄ«palko...\n",
              "3       Swasti house boat 2 is located in Kumarakom, 3...\n",
              "4       Amrutham Houseboat 2 is set in Kumarakom, 5 km...\n",
              "                              ...                        \n",
              "5997    Featuring free WiFi and a restaurant, Hotel Or...\n",
              "5998    Located 4.1 km from The Great India Place in N...\n",
              "5999    One of our bestsellers in Mumbai! Hotel Silver...\n",
              "6000    Offering a barbecue, children's playground and...\n",
              "6001    One of our bestsellers in Candolim! This prope...\n",
              "Name: clean_desc, Length: 6002, dtype: object"
            ]
          },
          "metadata": {
            "tags": []
          },
          "execution_count": 65
        }
      ]
    },
    {
      "cell_type": "code",
      "metadata": {
        "id": "bSSiL2N08mh6",
        "colab_type": "code",
        "colab": {
          "base_uri": "https://localhost:8080/",
          "height": 235
        },
        "outputId": "2ba217ea-8008-4bfe-cb49-d83c81a7b3c2"
      },
      "source": [
        "ihotel['clean_desc'] = ihotel.hotel_description\n",
        "\n",
        "ihotel.clean_desc = ihotel.clean_desc.str.replace(r'[^a-zA-Z0-9.,\\' ]?',r'', regex=True)\n",
        "ihotel.clean_desc"
      ],
      "execution_count": 66,
      "outputs": [
        {
          "output_type": "execute_result",
          "data": {
            "text/plain": [
              "0       Khirsu By GMVN offers accommodation in Pauri. ...\n",
              "1       Situated in Ooty in the Tamil Nadu Region, 8 k...\n",
              "2       TRH Pipalkoti offers accommodation in Ppalkoti...\n",
              "3       Swasti house boat 2 is located in Kumarakom, 3...\n",
              "4       Amrutham Houseboat 2 is set in Kumarakom, 5 km...\n",
              "                              ...                        \n",
              "5997    Featuring free WiFi and a restaurant, Hotel Or...\n",
              "5998    Located 4.1 km from The Great India Place in N...\n",
              "5999    One of our bestsellers in Mumbai Hotel Silver ...\n",
              "6000    Offering a barbecue, children's playground and...\n",
              "6001    One of our bestsellers in Candolim This proper...\n",
              "Name: clean_desc, Length: 6002, dtype: object"
            ]
          },
          "metadata": {
            "tags": []
          },
          "execution_count": 66
        }
      ]
    },
    {
      "cell_type": "code",
      "metadata": {
        "id": "b93MlRqy8ybw",
        "colab_type": "code",
        "colab": {}
      },
      "source": [
        "tfidf = TfidfVectorizer(stop_words='english')\n",
        "ihotel.clean_desc = ihotel.clean_desc.fillna('')\n",
        "\n",
        "tfidf_matrix = tfidf.fit_transform(ihotel.clean_desc)\n"
      ],
      "execution_count": 67,
      "outputs": []
    },
    {
      "cell_type": "code",
      "metadata": {
        "id": "ndQAgY8d5Mtp",
        "colab_type": "code",
        "colab": {
          "base_uri": "https://localhost:8080/",
          "height": 35
        },
        "outputId": "1a14420d-0816-42a0-e35a-bbe13b238724"
      },
      "source": [
        "tfidf_matrix.shape"
      ],
      "execution_count": 68,
      "outputs": [
        {
          "output_type": "execute_result",
          "data": {
            "text/plain": [
              "(6002, 5425)"
            ]
          },
          "metadata": {
            "tags": []
          },
          "execution_count": 68
        }
      ]
    },
    {
      "cell_type": "code",
      "metadata": {
        "id": "MEJsALTFgugw",
        "colab_type": "code",
        "colab": {
          "base_uri": "https://localhost:8080/",
          "height": 35
        },
        "outputId": "20986b7e-634d-490f-d860-4a54bebb3ca2"
      },
      "source": [
        "cosine_sim = cosine_similarity(tfidf_matrix, tfidf_matrix)\n",
        "cosine_sim.shape\n",
        "# (cosine_sim<0).sum()"
      ],
      "execution_count": 69,
      "outputs": [
        {
          "output_type": "execute_result",
          "data": {
            "text/plain": [
              "(6002, 6002)"
            ]
          },
          "metadata": {
            "tags": []
          },
          "execution_count": 69
        }
      ]
    },
    {
      "cell_type": "code",
      "metadata": {
        "id": "5bEMGHJOhUGI",
        "colab_type": "code",
        "colab": {}
      },
      "source": [
        "indices = pd.Series(ihotel.index, index=ihotel.property_name).drop_duplicates()"
      ],
      "execution_count": 79,
      "outputs": []
    },
    {
      "cell_type": "code",
      "metadata": {
        "id": "-2Z5vH0dBLxp",
        "colab_type": "code",
        "colab": {
          "base_uri": "https://localhost:8080/",
          "height": 254
        },
        "outputId": "8d1c53ec-6c73-48c8-b04f-cc48b84347e2"
      },
      "source": [
        "indices"
      ],
      "execution_count": 80,
      "outputs": [
        {
          "output_type": "execute_result",
          "data": {
            "text/plain": [
              "property_name\n",
              "Khirsu By GMVN                     0\n",
              "Global Village Ooty                1\n",
              "TRH Pipalkoti                      2\n",
              "Swasti house boat 2                3\n",
              "Amrutham Houseboat 2               4\n",
              "                                ... \n",
              "Hotel Orient Inn                5997\n",
              "Hotel Ascent Biz                5998\n",
              "Hotel Silver Moon               5999\n",
              "Ranches Jungle Beats Resorts    6000\n",
              "Zense Resort                    6001\n",
              "Length: 6002, dtype: int64"
            ]
          },
          "metadata": {
            "tags": []
          },
          "execution_count": 80
        }
      ]
    },
    {
      "cell_type": "code",
      "metadata": {
        "id": "sd_DsYAFjthR",
        "colab_type": "code",
        "colab": {
          "base_uri": "https://localhost:8080/",
          "height": 35
        },
        "outputId": "eae14997-2499-41f8-e2f6-ac12f59033ec"
      },
      "source": [
        "indices.value_counts().max()"
      ],
      "execution_count": 81,
      "outputs": [
        {
          "output_type": "execute_result",
          "data": {
            "text/plain": [
              "1"
            ]
          },
          "metadata": {
            "tags": []
          },
          "execution_count": 81
        }
      ]
    },
    {
      "cell_type": "code",
      "metadata": {
        "id": "amkCet2fj1Vq",
        "colab_type": "code",
        "colab": {
          "base_uri": "https://localhost:8080/",
          "height": 35
        },
        "outputId": "3bd5263a-bbbc-4c22-9d92-23d373e2a815"
      },
      "source": [
        "idx = indices['TRH Pipalkoti']\n",
        "sim_scores = list(enumerate(cosine_sim[idx]))\n",
        "sim_scores = sorted(sim_scores, key=lambda x: x[1], reverse=True)\n",
        "sim_scores = sim_scores[1:11]\n",
        "movie_indices =  [i[0] for i in sim_scores]\n",
        "movie_indices"
      ],
      "execution_count": 82,
      "outputs": [
        {
          "output_type": "execute_result",
          "data": {
            "text/plain": [
              "[4433, 4662, 4672, 418, 331, 437, 4694, 163, 232, 336]"
            ]
          },
          "metadata": {
            "tags": []
          },
          "execution_count": 82
        }
      ]
    },
    {
      "cell_type": "code",
      "metadata": {
        "id": "paZ4Q-nmD6c9",
        "colab_type": "code",
        "colab": {
          "base_uri": "https://localhost:8080/",
          "height": 35
        },
        "outputId": "a7bc305f-2a79-4db6-d273-fe6b3086e3ef"
      },
      "source": [
        "idx"
      ],
      "execution_count": 85,
      "outputs": [
        {
          "output_type": "execute_result",
          "data": {
            "text/plain": [
              "2"
            ]
          },
          "metadata": {
            "tags": []
          },
          "execution_count": 85
        }
      ]
    },
    {
      "cell_type": "code",
      "metadata": {
        "id": "fQ_TJsGowLYj",
        "colab_type": "code",
        "colab": {}
      },
      "source": [
        "# Function that takes in movie title as input and outputs most similar movies\n",
        "def get_recommendations(title, cosine_sim=cosine_sim):\n",
        "    # Get the index of the movie that matches the title\n",
        "    idx = indices[title]\n",
        "\n",
        "    # Get the pairwsie similarity scores of all movies with that movie\n",
        "    sim_scores = list(enumerate(cosine_sim[idx]))\n",
        "\n",
        "    # Sort the movies based on the similarity scores\n",
        "    sim_scores = sorted(sim_scores, key=lambda x: x[1], reverse=True)\n",
        "\n",
        "    # Get the scores of the 10 most similar movies\n",
        "    sim_scores = sim_scores[1:11]\n",
        "\n",
        "    # Get the movie indices\n",
        "    movie_indices = [i[0] for i in sim_scores]\n",
        "\n",
        "    # Return the top 10 most similar movies\n",
        "    return ihotel.clean_desc.iloc[movie_indices] "
      ],
      "execution_count": 87,
      "outputs": []
    },
    {
      "cell_type": "code",
      "metadata": {
        "id": "W8Xz8v6fwWdN",
        "colab_type": "code",
        "colab": {
          "base_uri": "https://localhost:8080/",
          "height": 217
        },
        "outputId": "8c1be78b-e354-423a-88ee-37f20da344af"
      },
      "source": [
        "get_recommendations('TRH Pipalkoti')"
      ],
      "execution_count": 88,
      "outputs": [
        {
          "output_type": "execute_result",
          "data": {
            "text/plain": [
              "4433    Vista Rooms near B.B.C Tower offers accommodat...\n",
              "4662    Vista Rooms near B.B.C Tower offers accommodat...\n",
              "4672    Vista Rooms near B.B.C Tower offers accommodat...\n",
              "418     Featuring free WiFi throughout the property, B...\n",
              "331     Featuring free WiFi, Mickey Homestay offers pe...\n",
              "437     Featuring free WiFi, Mickey Homestay offers pe...\n",
              "4694    Featuring free WiFi throughout the property, V...\n",
              "163     Featuring free WiFi, a restaurant and a terrac...\n",
              "232     Suchee's Cliff House offers petfriendly accomm...\n",
              "336     Suchee's Cliff House offers petfriendly accomm...\n",
              "Name: clean_desc, dtype: object"
            ]
          },
          "metadata": {
            "tags": []
          },
          "execution_count": 88
        }
      ]
    }
  ]
}